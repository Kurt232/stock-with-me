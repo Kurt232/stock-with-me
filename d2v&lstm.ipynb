{
 "cells": [
  {
   "cell_type": "markdown",
   "metadata": {
    "papermill": {
     "duration": 0.04578,
     "end_time": "2020-10-12T12:26:42.566012",
     "exception": false,
     "start_time": "2020-10-12T12:26:42.520232",
     "status": "completed"
    },
    "tags": []
   },
   "source": [
    "# Practical Example final\n"
   ]
  },
  {
   "cell_type": "code",
   "execution_count": 1,
   "metadata": {
    "_cell_guid": "b1076dfc-b9ad-4769-8c92-a6c4dae69d19",
    "_uuid": "8f2839f25d086af736a60e9eeb907d3b93b6e0e5",
    "execution": {
     "iopub.execute_input": "2020-10-12T12:26:42.667444Z",
     "iopub.status.busy": "2020-10-12T12:26:42.666465Z",
     "iopub.status.idle": "2020-10-12T12:26:49.462818Z",
     "shell.execute_reply": "2020-10-12T12:26:49.461925Z"
    },
    "papermill": {
     "duration": 6.850687,
     "end_time": "2020-10-12T12:26:49.462948",
     "exception": false,
     "start_time": "2020-10-12T12:26:42.612261",
     "status": "completed"
    },
    "tags": []
   },
   "outputs": [
    {
     "ename": "ModuleNotFoundError",
     "evalue": "No module named 'wordcloud'",
     "output_type": "error",
     "traceback": [
      "\u001b[1;31m---------------------------------------------------------------------------\u001b[0m",
      "\u001b[1;31mModuleNotFoundError\u001b[0m                       Traceback (most recent call last)",
      "Input \u001b[1;32mIn [1]\u001b[0m, in \u001b[0;36m<cell line: 20>\u001b[1;34m()\u001b[0m\n\u001b[0;32m     18\u001b[0m \u001b[38;5;28;01mimport\u001b[39;00m \u001b[38;5;21;01mre\u001b[39;00m\n\u001b[0;32m     19\u001b[0m \u001b[38;5;28;01mimport\u001b[39;00m \u001b[38;5;21;01mnumpy\u001b[39;00m \u001b[38;5;28;01mas\u001b[39;00m \u001b[38;5;21;01mnp\u001b[39;00m\n\u001b[1;32m---> 20\u001b[0m \u001b[38;5;28;01mfrom\u001b[39;00m \u001b[38;5;21;01mwordcloud\u001b[39;00m \u001b[38;5;28;01mimport\u001b[39;00m WordCloud, STOPWORDS, ImageColorGenerator\n\u001b[0;32m     21\u001b[0m \u001b[38;5;28;01mfrom\u001b[39;00m \u001b[38;5;21;01mnltk\u001b[39;00m\u001b[38;5;21;01m.\u001b[39;00m\u001b[38;5;21;01mtokenize\u001b[39;00m \u001b[38;5;28;01mimport\u001b[39;00m RegexpTokenizer\n\u001b[0;32m     22\u001b[0m \u001b[38;5;28;01mfrom\u001b[39;00m \u001b[38;5;21;01mnltk\u001b[39;00m\u001b[38;5;21;01m.\u001b[39;00m\u001b[38;5;21;01mstem\u001b[39;00m \u001b[38;5;28;01mimport\u001b[39;00m WordNetLemmatizer,PorterStemmer\n",
      "\u001b[1;31mModuleNotFoundError\u001b[0m: No module named 'wordcloud'"
     ]
    }
   ],
   "source": [
    "import pandas as pd\n",
    "import numpy as np\n",
    "from tqdm import tqdm\n",
    "from keras.preprocessing.text import Tokenizer\n",
    "tqdm.pandas(desc=\"progress-bar\")\n",
    "from gensim.models import Doc2Vec\n",
    "from sklearn import utils\n",
    "from sklearn.model_selection import train_test_split\n",
    "from keras_preprocessing.sequence import pad_sequences\n",
    "import gensim\n",
    "from sklearn.linear_model import LogisticRegression\n",
    "from gensim.models.doc2vec import TaggedDocument\n",
    "import re\n",
    "import seaborn as sns\n",
    "import matplotlib.pyplot as plt\n",
    "import pandas as pd\n",
    "import nltk\n",
    "import re\n",
    "import numpy as np\n",
    "from wordcloud import WordCloud, STOPWORDS, ImageColorGenerator\n",
    "from nltk.tokenize import RegexpTokenizer\n",
    "from nltk.stem import WordNetLemmatizer,PorterStemmer\n",
    "from nltk.corpus import stopwords\n",
    "import matplotlib.pyplot as plt\n",
    "from matplotlib.pyplot import figure\n",
    "from collections import Counter\n",
    "nltk.download('wordnet')\n",
    "nltk.download('stopwords')\n",
    "# 下载nltk语料库"
   ]
  },
  {
   "cell_type": "markdown",
   "metadata": {
    "papermill": {
     "duration": 0.046251,
     "end_time": "2020-10-12T12:26:49.556802",
     "exception": false,
     "start_time": "2020-10-12T12:26:49.510551",
     "status": "completed"
    },
    "tags": []
   },
   "source": [
    "Read Dataset"
   ]
  },
  {
   "cell_type": "code",
   "execution_count": 4,
   "metadata": {
    "execution": {
     "iopub.execute_input": "2020-10-12T12:26:49.655670Z",
     "iopub.status.busy": "2020-10-12T12:26:49.654895Z",
     "iopub.status.idle": "2020-10-12T12:26:49.709755Z",
     "shell.execute_reply": "2020-10-12T12:26:49.709002Z"
    },
    "papermill": {
     "duration": 0.106491,
     "end_time": "2020-10-12T12:26:49.709876",
     "exception": false,
     "start_time": "2020-10-12T12:26:49.603385",
     "status": "completed"
    },
    "tags": []
   },
   "outputs": [
    {
     "data": {
      "text/html": [
       "<div>\n",
       "<style scoped>\n",
       "    .dataframe tbody tr th:only-of-type {\n",
       "        vertical-align: middle;\n",
       "    }\n",
       "\n",
       "    .dataframe tbody tr th {\n",
       "        vertical-align: top;\n",
       "    }\n",
       "\n",
       "    .dataframe thead th {\n",
       "        text-align: right;\n",
       "    }\n",
       "</style>\n",
       "<table border=\"1\" class=\"dataframe\">\n",
       "  <thead>\n",
       "    <tr style=\"text-align: right;\">\n",
       "      <th></th>\n",
       "      <th>sentiment</th>\n",
       "      <th>Message</th>\n",
       "    </tr>\n",
       "  </thead>\n",
       "  <tbody>\n",
       "    <tr>\n",
       "      <th>0</th>\n",
       "      <td>neutral</td>\n",
       "      <td>Technopolis plans to develop in stages an area...</td>\n",
       "    </tr>\n",
       "    <tr>\n",
       "      <th>1</th>\n",
       "      <td>negative</td>\n",
       "      <td>The international electronic industry company ...</td>\n",
       "    </tr>\n",
       "    <tr>\n",
       "      <th>2</th>\n",
       "      <td>positive</td>\n",
       "      <td>With the new production plant the company woul...</td>\n",
       "    </tr>\n",
       "    <tr>\n",
       "      <th>3</th>\n",
       "      <td>positive</td>\n",
       "      <td>According to the company 's updated strategy f...</td>\n",
       "    </tr>\n",
       "    <tr>\n",
       "      <th>4</th>\n",
       "      <td>positive</td>\n",
       "      <td>FINANCING OF ASPOCOMP 'S GROWTH Aspocomp is ag...</td>\n",
       "    </tr>\n",
       "  </tbody>\n",
       "</table>\n",
       "</div>"
      ],
      "text/plain": [
       "  sentiment                                            Message\n",
       "0   neutral  Technopolis plans to develop in stages an area...\n",
       "1  negative  The international electronic industry company ...\n",
       "2  positive  With the new production plant the company woul...\n",
       "3  positive  According to the company 's updated strategy f...\n",
       "4  positive  FINANCING OF ASPOCOMP 'S GROWTH Aspocomp is ag..."
      ]
     },
     "execution_count": 4,
     "metadata": {},
     "output_type": "execute_result"
    }
   ],
   "source": [
    "df = pd.read_csv('all-data.csv',delimiter=',',encoding='latin-1')\n",
    "df = df.rename(columns={'neutral':'sentiment','According to Gran , the company has no plans to move all production to Russia , although that is where the company is growing .':'Message'})\n",
    "\n",
    "df.head()"
   ]
  },
  {
   "cell_type": "code",
   "execution_count": 5,
   "metadata": {
    "_cell_guid": "79c7e3d0-c299-4dcb-8224-4455121ee9b0",
    "_uuid": "d629ff2d2480ee46fbb7e2d37f6b5fab8052498a",
    "execution": {
     "iopub.execute_input": "2020-10-12T12:26:49.916465Z",
     "iopub.status.busy": "2020-10-12T12:26:49.915342Z",
     "iopub.status.idle": "2020-10-12T12:26:49.919670Z",
     "shell.execute_reply": "2020-10-12T12:26:49.918929Z"
    },
    "papermill": {
     "duration": 0.057305,
     "end_time": "2020-10-12T12:26:49.919790",
     "exception": false,
     "start_time": "2020-10-12T12:26:49.862485",
     "status": "completed"
    },
    "tags": []
   },
   "outputs": [
    {
     "data": {
      "text/plain": [
       "(4845, 2)"
      ]
     },
     "execution_count": 5,
     "metadata": {},
     "output_type": "execute_result"
    }
   ],
   "source": [
    "df.shape"
   ]
  },
  {
   "cell_type": "code",
   "execution_count": 6,
   "metadata": {
    "execution": {
     "iopub.execute_input": "2020-10-12T12:26:50.035463Z",
     "iopub.status.busy": "2020-10-12T12:26:50.026822Z",
     "iopub.status.idle": "2020-10-12T12:26:50.039928Z",
     "shell.execute_reply": "2020-10-12T12:26:50.039206Z"
    },
    "papermill": {
     "duration": 0.072332,
     "end_time": "2020-10-12T12:26:50.040050",
     "exception": false,
     "start_time": "2020-10-12T12:26:49.967718",
     "status": "completed"
    },
    "tags": []
   },
   "outputs": [
    {
     "data": {
      "text/plain": [
       "111964"
      ]
     },
     "execution_count": 6,
     "metadata": {},
     "output_type": "execute_result"
    }
   ],
   "source": [
    "df.index = range(4845)\n",
    "df['Message'].apply(lambda x: len(x.split(' '))).sum()"
   ]
  },
  {
   "cell_type": "markdown",
   "metadata": {
    "papermill": {
     "duration": 0.048672,
     "end_time": "2020-10-12T12:26:50.137220",
     "exception": false,
     "start_time": "2020-10-12T12:26:50.088548",
     "status": "completed"
    },
    "tags": []
   },
   "source": [
    "VISUALIZING THE DATA"
   ]
  },
  {
   "cell_type": "code",
   "execution_count": 7,
   "metadata": {
    "execution": {
     "iopub.execute_input": "2020-10-12T12:26:50.245448Z",
     "iopub.status.busy": "2020-10-12T12:26:50.242774Z",
     "iopub.status.idle": "2020-10-12T12:26:50.442947Z",
     "shell.execute_reply": "2020-10-12T12:26:50.442238Z"
    },
    "papermill": {
     "duration": 0.257927,
     "end_time": "2020-10-12T12:26:50.443105",
     "exception": false,
     "start_time": "2020-10-12T12:26:50.185178",
     "status": "completed"
    },
    "tags": []
   },
   "outputs": [
    {
     "name": "stdout",
     "output_type": "stream",
     "text": [
      "neutral     2878\n",
      "positive    1363\n",
      "negative     604\n",
      "Name: sentiment, dtype: int64\n",
      "neutral     59.401445\n",
      "positive    28.132095\n",
      "negative    12.466460\n",
      "Name: sentiment, dtype: float64\n"
     ]
    },
    {
     "data": {
      "image/png": "[encoded data removed]",
      "text/plain": [
       "<Figure size 864x288 with 1 Axes>"
      ]
     },
     "metadata": {
      "needs_background": "light"
     },
     "output_type": "display_data"
    }
   ],
   "source": [
    "cnt_pro = df['sentiment'].value_counts()\n",
    "print(cnt_pro)\n",
    "print(str(100*cnt_pro/df.shape[0]))\n",
    "\n",
    "\n",
    "plt.figure(figsize=(12,4))\n",
    "sns.barplot(x=cnt_pro.index, y=cnt_pro.values, alpha=1)\n",
    "plt.ylabel('Number of Occurrences', fontsize=15)\n",
    "plt.xlabel('sentiment', fontsize=15)\n",
    "plt.xticks(rotation=0)\n",
    "plt.show()"
   ]
  },
  {
   "cell_type": "code",
   "execution_count": 8,
   "metadata": {
    "execution": {
     "iopub.execute_input": "2020-10-12T12:26:50.556412Z",
     "iopub.status.busy": "2020-10-12T12:26:50.555556Z",
     "iopub.status.idle": "2020-10-12T12:26:50.559713Z",
     "shell.execute_reply": "2020-10-12T12:26:50.559124Z"
    },
    "papermill": {
     "duration": 0.067554,
     "end_time": "2020-10-12T12:26:50.559841",
     "exception": false,
     "start_time": "2020-10-12T12:26:50.492287",
     "status": "completed"
    },
    "tags": []
   },
   "outputs": [
    {
     "name": "stdout",
     "output_type": "stream",
     "text": [
      "      sentiment                                            Message\n",
      "0             1  Technopolis plans to develop in stages an area...\n",
      "1             2  The international electronic industry company ...\n",
      "2             0  With the new production plant the company woul...\n",
      "3             0  According to the company 's updated strategy f...\n",
      "4             0  FINANCING OF ASPOCOMP 'S GROWTH Aspocomp is ag...\n",
      "...         ...                                                ...\n",
      "4840          2  LONDON MarketWatch -- Share prices ended lower...\n",
      "4841          1  Rinkuskiai 's beer sales fell by 6.5 per cent ...\n",
      "4842          2  Operating profit fell to EUR 35.4 mn from EUR ...\n",
      "4843          2  Net sales of the Paper segment decreased to EU...\n",
      "4844          2  Sales in Finland decreased by 10.5 % in Januar...\n",
      "\n",
      "[4845 rows x 2 columns]\n"
     ]
    }
   ],
   "source": [
    "#Convert string to numeric,label转为数字\n",
    "\n",
    "sentiment  = {'positive': 0,'neutral': 1,'negative':2} \n",
    "\n",
    "df.sentiment = [sentiment[item] for item in df.sentiment] \n",
    "print(df)"
   ]
  },
  {
   "cell_type": "code",
   "execution_count": 9,
   "metadata": {
    "execution": {
     "iopub.execute_input": "2020-10-12T12:26:50.666951Z",
     "iopub.status.busy": "2020-10-12T12:26:50.666213Z",
     "iopub.status.idle": "2020-10-12T12:26:50.688240Z",
     "shell.execute_reply": "2020-10-12T12:26:50.687469Z"
    },
    "papermill": {
     "duration": 0.0786,
     "end_time": "2020-10-12T12:26:50.688365",
     "exception": false,
     "start_time": "2020-10-12T12:26:50.609765",
     "status": "completed"
    },
    "tags": []
   },
   "outputs": [
    {
     "name": "stdout",
     "output_type": "stream",
     "text": [
      "[\"HELSINKI ( AFX ) - Shares closed higher , led by Nokia after it announced plans to team up with Sanyo to manufacture 3G handsets , and by Nokian Tyres after its fourth-quarter earnings report beat analysts ' expectations , dealers said .\"\n",
      " 0]\n",
      "HELSINKI ( AFX ) - Shares closed higher , led by Nokia after it announced plans to team up with Sanyo to manufacture 3G handsets , and by Nokian Tyres after its fourth-quarter earnings report beat analysts ' expectations , dealers said .\n",
      "Message: 0\n"
     ]
    }
   ],
   "source": [
    "# 打印推文的情绪\n",
    "\n",
    "def print_message(index):\n",
    "    example = df[df.index == index][['Message', 'sentiment']].values[0]\n",
    "    print(example)\n",
    "    if len(example) > 0:\n",
    "        \n",
    "        print(example[0])\n",
    "        print('Message:', example[1])\n",
    "print_message(16)\n"
   ]
  },
  {
   "cell_type": "code",
   "execution_count": 10,
   "metadata": {
    "execution": {
     "iopub.execute_input": "2020-10-12T12:26:50.797821Z",
     "iopub.status.busy": "2020-10-12T12:26:50.796782Z",
     "iopub.status.idle": "2020-10-12T12:26:50.800382Z",
     "shell.execute_reply": "2020-10-12T12:26:50.801184Z"
    },
    "papermill": {
     "duration": 0.062132,
     "end_time": "2020-10-12T12:26:50.801381",
     "exception": false,
     "start_time": "2020-10-12T12:26:50.739249",
     "status": "completed"
    },
    "tags": []
   },
   "outputs": [
    {
     "name": "stdout",
     "output_type": "stream",
     "text": [
      "['Technopolis plans to develop in stages an area of no less than 100,000 square meters in order to host companies working in computer technologies and telecommunications , the statement said .'\n",
      " 1]\n",
      "Technopolis plans to develop in stages an area of no less than 100,000 square meters in order to host companies working in computer technologies and telecommunications , the statement said .\n",
      "Message: 1\n"
     ]
    }
   ],
   "source": [
    "print_message(0)"
   ]
  },
  {
   "cell_type": "markdown",
   "metadata": {
    "papermill": {
     "duration": 0.05082,
     "end_time": "2020-10-12T12:26:50.904555",
     "exception": false,
     "start_time": "2020-10-12T12:26:50.853735",
     "status": "completed"
    },
    "tags": []
   },
   "source": [
    "### Text Preprocessing Below \n",
    "we define a function to convert text to lower-case and strip punctuation/symbols from words and so on.\n",
    "\n",
    "\n",
    "文本预处理 下面我们定义一个函数，将文本转换为小写字母，并从单词中剥离标点/符号，等等。"
   ]
  },
  {
   "cell_type": "code",
   "execution_count": 11,
   "metadata": {},
   "outputs": [
    {
     "name": "stderr",
     "output_type": "stream",
     "text": [
      "C:\\Users\\Jiaqi\\AppData\\Local\\Programs\\Python\\Python310\\lib\\site-packages\\bs4\\__init__.py:435: MarkupResemblesLocatorWarning: The input looks more like a filename than markup. You may want to open this file and pass the filehandle into Beautiful Soup.\n",
      "  warnings.warn(\n"
     ]
    },
    {
     "name": "stdout",
     "output_type": "stream",
     "text": [
      "      sentiment                                            Message\n",
      "0             1  technopolis plans to develop in stages an area...\n",
      "1             2  the international electronic industry company ...\n",
      "2             0  with the new production plant the company woul...\n",
      "3             0  according to the company 's updated strategy f...\n",
      "4             0  financing of aspocomp 's growth aspocomp is ag...\n",
      "...         ...                                                ...\n",
      "4840          2  london marketwatch -- share prices ended lower...\n",
      "4841          1  rinkuskiai 's beer sales fell by 6.5 per cent ...\n",
      "4842          2  operating profit fell to eur 35.4 mn from eur ...\n",
      "4843          2  net sales of the paper segment decreased to eu...\n",
      "4844          2  sales in finland decreased by 10.5 % in januar...\n",
      "\n",
      "[4845 rows x 2 columns]\n",
      "train\n",
      "      sentiment                                            Message\n",
      "1684          0  upm-kymmene has generated four consecutive qua...\n",
      "1044          1  in the method the smelt spouts 2 are separated...\n",
      "4144          1  `` that 's a very high figure on the european ...\n",
      "1538          1  in penttil+æ 's vision , the most important re...\n",
      "1034          1  financialwire tm is a fully independent , prop...\n",
      "...         ...                                                ...\n",
      "4426          2  the finnish company previously said its operat...\n",
      "466           0  `` residentialconstruction in particular has p...\n",
      "3092          1  proha plc ( euronet :7327 ) announced today ( ...\n",
      "3772          1  the building will house product development an...\n",
      "860           0  ( adp news ) - oct 31 , 2008 - finnish food co...\n",
      "\n",
      "[4844 rows x 2 columns]\n",
      "test\n",
      "      sentiment                                            Message\n",
      "3206          1  the company was supposed to deliver machinery ...\n"
     ]
    }
   ],
   "source": [
    "from bs4 import BeautifulSoup\n",
    "\n",
    "# 通过Beautiful Soup库，我们可以将指定的class或id值作为参数，来直接获取到对应标签的相关数据，这样的处理方式简洁明了。\n",
    "\n",
    "def cleanText(text):\n",
    "    text = BeautifulSoup(text, \"lxml\").text\n",
    "    text = re.sub(r'\\|\\|\\|', r' ', text) \n",
    "    text = re.sub(r'http\\S+', r'<URL>', text)\n",
    "    text = text.lower()\n",
    "    text = text.replace('x', '')\n",
    "    return text\n",
    "df['Message'] = df['Message'].apply(cleanText)\n",
    "print(df)\n",
    "train, test = train_test_split(df, test_size=1 , random_state=42)\n",
    "# 分割训练集和测试集\n",
    "\n",
    "print(\"train\")\n",
    "print(train)\n",
    "print(\"test\")\n",
    "print(test)"
   ]
  },
  {
   "cell_type": "code",
   "execution_count": 17,
   "metadata": {},
   "outputs": [
    {
     "name": "stderr",
     "output_type": "stream",
     "text": [
      "[nltk_data] Downloading package punkt to\n",
      "[nltk_data]     C:\\Users\\Jiaqi\\AppData\\Roaming\\nltk_data...\n",
      "[nltk_data]   Unzipping tokenizers\\punkt.zip.\n"
     ]
    },
    {
     "name": "stdout",
     "output_type": "stream",
     "text": [
      "[[   0    0    0 ...    1  928   20]\n",
      " [   0    0    0 ...  876 5010  250]\n",
      " [   0    0    0 ...    1   88 1186]\n",
      " ...\n",
      " [   0    0    0 ...  129   38   23]\n",
      " [   0    0    0 ...   57   54   23]\n",
      " [   0    0    0 ...  961   18  295]]\n",
      "(4845, 71)\n",
      "Found 4845 unique tokens单词和标记.\n"
     ]
    }
   ],
   "source": [
    "import nltk\n",
    "from nltk.corpus import stopwords\n",
    "nltk.download('punkt')\n",
    "\n",
    "def tokenize_text(text):\n",
    "    tokens = []\n",
    "    for sent in nltk.sent_tokenize(text):\n",
    "        # send_tokenize(blabla) 对文本按照句子进行分割 \n",
    "        # sentence\n",
    "        for word in nltk.word_tokenize(sent):\n",
    "            #if len(word) < 0:\n",
    "            if len(word) <= 0:\n",
    "                continue\n",
    "                # 跳过 长度小于1 的词\n",
    "            tokens.append(word.lower())\n",
    "    return tokens\n",
    "\n",
    "\n",
    "train_tagged = train.apply(\n",
    "    lambda r: TaggedDocument(words=tokenize_text(r['Message']), tags=[r.sentiment]), axis=1)\n",
    "\n",
    "test_tagged = test.apply(\n",
    "    lambda r: TaggedDocument(words=tokenize_text(r['Message']), tags=[r.sentiment]), axis=1)\n",
    "\n",
    "\n",
    "\n",
    "\n",
    "# The maximum number of words to be used. (most frequent)\n",
    "max_fatures = 500000\n",
    "\n",
    "# Max number of words in each complaint.\n",
    "MAX_SEQUENCE_LENGTH = 50\n",
    "\n",
    "\n",
    "#tokenizer = Tokenizer(num_words=max_fatures, split=' ')\n",
    "# 使用文本的第一步就是将其拆分为单词。\n",
    "# 单词称为标记（token）\n",
    "# tokenizer 是一个list\n",
    "# 将文本拆分为标记的过程称为标记化(tokenization)，而标记化用到的模型或工具称为tokenizer。Keras提供了Tokenizer类，用于为深度学习文本文档的预处理。\n",
    "# https://zhuanlan.zhihu.com/p/55412623\n",
    "\n",
    "tokenizer = Tokenizer(num_words=max_fatures, split=' ', filters='!\"#$%&()*+,-./:;<=>?@[\\]^_`{|}~', lower=True)\n",
    "# 分词\n",
    "# 经过fit on texts后有两个属性，分别是word_counts 和 index\n",
    "tokenizer.fit_on_texts(df['Message'].values)\n",
    "\n",
    "# print(tokenizer.word_counts)\n",
    "# print(tokenizer.word_index)\n",
    "\n",
    "X = tokenizer.texts_to_sequences(df['Message'].values)\n",
    "# print(X)\n",
    "X = pad_sequences(X)\n",
    "print(X)\n",
    "print(X.shape)\n",
    "# 为了实现的简便，keras只能接受长度相同的序列输入。\n",
    "# 因此如果目前序列长度参差不齐，这时需要使用pad_sequences()。\n",
    "# 该函数是将序列转化为经过填充以后的一个长度相同的新序列新序列。\n",
    "print('Found %s unique tokens单词和标记.' % len(X))"
   ]
  },
  {
   "cell_type": "code",
   "execution_count": 18,
   "metadata": {
    "execution": {
     "iopub.execute_input": "2020-10-12T12:26:57.004735Z",
     "iopub.status.busy": "2020-10-12T12:26:56.989207Z",
     "iopub.status.idle": "2020-10-12T12:26:57.168898Z",
     "shell.execute_reply": "2020-10-12T12:26:57.168096Z"
    },
    "papermill": {
     "duration": 0.254585,
     "end_time": "2020-10-12T12:26:57.169086",
     "exception": false,
     "start_time": "2020-10-12T12:26:56.914501",
     "status": "completed"
    },
    "tags": []
   },
   "outputs": [
    {
     "name": "stdout",
     "output_type": "stream",
     "text": [
      "[[   0    0    0 ...    1  928   20]\n",
      " [   0    0    0 ...  876 5010  250]\n",
      " [   0    0    0 ...    1   88 1186]\n",
      " ...\n",
      " [   0    0    0 ...  129   38   23]\n",
      " [   0    0    0 ...   57   54   23]\n",
      " [   0    0    0 ...  961   18  295]]\n",
      "Shape of data tensor: (4845, 50)\n"
     ]
    }
   ],
   "source": [
    "X = tokenizer.texts_to_sequences(df['Message'].values)\n",
    "X = pad_sequences(X, maxlen=MAX_SEQUENCE_LENGTH)\n",
    "print(X)\n",
    "print('Shape of data tensor:', X.shape)"
   ]
  },
  {
   "cell_type": "code",
   "execution_count": 19,
   "metadata": {
    "execution": {
     "iopub.execute_input": "2020-10-12T12:26:57.279508Z",
     "iopub.status.busy": "2020-10-12T12:26:57.278622Z",
     "iopub.status.idle": "2020-10-12T12:26:57.283858Z",
     "shell.execute_reply": "2020-10-12T12:26:57.283268Z"
    },
    "papermill": {
     "duration": 0.062472,
     "end_time": "2020-10-12T12:26:57.283990",
     "exception": false,
     "start_time": "2020-10-12T12:26:57.221518",
     "status": "completed"
    },
    "tags": []
   },
   "outputs": [
    {
     "data": {
      "text/plain": [
       "array([TaggedDocument(words=['upm-kymmene', 'has', 'generated', 'four', 'consecutive', 'quarters', 'of', 'positive', 'free', 'cash', 'flow', '.'], tags=[0]),\n",
       "       TaggedDocument(words=['in', 'the', 'method', 'the', 'smelt', 'spouts', '2', 'are', 'separated', 'from', 'the', 'working', 'area', '6', 'by', 'a', 'shielding', 'wall', '8', ',', '10', 'arranged', 'movable', 'in', 'relation', 'to', 'the', 'smelt', 'spouts', '.'], tags=[1]),\n",
       "       TaggedDocument(words=['``', 'that', \"'s\", 'a', 'very', 'high', 'figure', 'on', 'the', 'european', 'scale', ',', '``', 'noop', 'said', ',', 'recalling', 'however', 'that', 'this', 'also', 'includes', 'beer', 'bought', 'by', 'finnish', 'tourists', '.'], tags=[1]),\n",
       "       ...,\n",
       "       TaggedDocument(words=['proha', 'plc', '(', 'euronet', ':7327', ')', 'announced', 'today', '(', '19', 'may', ')', 'that', 'its', 'fully-owned', 'subsidiary', ',', 'safran', 'software', 'solutions', 'as', ',', 'has', 'agreed', 'to', 'sell', 'its', '49', '%', 'share', 'of', 'safran', 'north', 'america', 'llc', 'to', 'a', 'sna', 'holding', 'as', ',', 'an', 'investment', 'group', 'based', 'in', 'norway', '.'], tags=[1]),\n",
       "       TaggedDocument(words=['the', 'building', 'will', 'house', 'product', 'development', 'and', 'test', 'laboratories', '.'], tags=[1]),\n",
       "       TaggedDocument(words=['(', 'adp', 'news', ')', '-', 'oct', '31', ',', '2008', '-', 'finnish', 'food', 'company', 'raisio', 'oyj', '(', 'om', ':', 'raivv', ')', 'said', 'today', 'that', 'its', 'net', 'profit', 'jumped', 'to', 'eur', '16.4', 'million', '(', 'usd', '20.9', 'm', ')', 'for', 'the', 'first', 'nine', 'months', 'of', '2008', 'from', 'eur', '1.1', 'million', 'for', 'the', 'same', 'period', 'of', '2'], tags=[0])],\n",
       "      dtype=object)"
      ]
     },
     "execution_count": 19,
     "metadata": {},
     "output_type": "execute_result"
    }
   ],
   "source": [
    "# train_tagged.values[2173]\n",
    "train_tagged.values"
   ]
  },
  {
   "cell_type": "markdown",
   "metadata": {
    "papermill": {
     "duration": 0.052552,
     "end_time": "2020-10-12T12:26:57.388708",
     "exception": false,
     "start_time": "2020-10-12T12:26:57.336156",
     "status": "completed"
    },
    "tags": []
   },
   "source": [
    "### Doc2Vec 模型\n",
    "\n",
    "Model DM = 1\n",
    "\n",
    "This work use DM=1 (it preserve word order)\n",
    "\n",
    "dm 定义了训练的算法。默认是dm=1,使用 ‘distributed memory’ (PV-DM)，否则 distributed bag of words (PV-DBOW)。\n",
    "\n",
    "\n",
    "vector_size 是特征向量的纬度。\n",
    "\n",
    "\n",
    "window 是要预测的词和文档中用来预测的上下文词之间的最大距离。\n",
    "\n",
    "\n",
    "min_count 忽略总频数小于此的所有的词， 默认值为5。\n",
    "\n",
    "\n",
    "workers：用于控制训练的并行数。\n",
    "\n",
    "\n",
    "alpha 是初始化的学习速率，会随着训练过程线性下降。\n",
    "\n",
    "\n",
    "min_alpha：学习率的最小值。\n",
    "\n",
    "\n",
    "epochs：(int, optional) - 语料库上的迭代次数（epochs）。\n",
    "\n",
    "\n",
    "iter： 迭代次数，默认为5。\n",
    "\n",
    "\n",
    "hs: 如果为1则会采用hierarchica·softmax技巧。如果设置为0（默认），则使用negative sampling。\n",
    "\n",
    "\n",
    "seed 用于随机数发生器。与初始化词向量有关。需要注意的是，对于一个完全明确的重复运行（fully deterministically-reproducible run），你必须同时限制模型单线程工作以消除操作系统线程调度中的有序抖动。（在python3中，解释器启动的再现要求使用PYTHONHASHSEED环境变量来控制散列随机化）\n",
    "\n",
    "\n",
    "sample: 高频词汇的随机降采样的配置阈值，默认为1e-3，范围是(0,1e-5)。\n",
    "\n",
    "\n",
    "max_vocab_size 在词汇累积的时候限制内存。如果有很多独特的词多于此，则将频率低的删去。每一千万词类大概需要1G的内存，设为None以不限制（默认）。"
   ]
  },
  {
   "cell_type": "code",
   "execution_count": 20,
   "metadata": {
    "execution": {
     "iopub.execute_input": "2020-10-12T12:26:57.500829Z",
     "iopub.status.busy": "2020-10-12T12:26:57.499982Z",
     "iopub.status.idle": "2020-10-12T12:27:02.496799Z",
     "shell.execute_reply": "2020-10-12T12:27:02.496132Z"
    },
    "papermill": {
     "duration": 5.055169,
     "end_time": "2020-10-12T12:27:02.496925",
     "exception": false,
     "start_time": "2020-10-12T12:26:57.441756",
     "status": "completed"
    },
    "tags": []
   },
   "outputs": [
    {
     "name": "stderr",
     "output_type": "stream",
     "text": [
      "100%|█████████████████████████████████████████████████████████████████████████| 4844/4844 [00:00<00:00, 2420155.88it/s]\n"
     ]
    }
   ],
   "source": [
    "d2v_model = Doc2Vec(dm=1, dm_mean=1, vector_size=20, window=8, min_count=1, workers=1, alpha=0.065, min_alpha=0.065)\n",
    "d2v_model.build_vocab([x for x in tqdm(train_tagged.values)])\n",
    "# d2v_model.build_vocab(train_tagged.values)\n",
    "\n",
    "# tqdm 是个进度条"
   ]
  },
  {
   "cell_type": "code",
   "execution_count": 21,
   "metadata": {
    "execution": {
     "iopub.execute_input": "2020-10-12T12:27:02.612438Z",
     "iopub.status.busy": "2020-10-12T12:27:02.611409Z",
     "iopub.status.idle": "2020-10-12T12:27:16.819216Z",
     "shell.execute_reply": "2020-10-12T12:27:16.818556Z"
    },
    "papermill": {
     "duration": 14.268056,
     "end_time": "2020-10-12T12:27:16.819361",
     "exception": false,
     "start_time": "2020-10-12T12:27:02.551305",
     "status": "completed"
    },
    "tags": []
   },
   "outputs": [
    {
     "name": "stderr",
     "output_type": "stream",
     "text": [
      "100%|█████████████████████████████████████████████████████████████████████████| 4844/4844 [00:00<00:00, 4760358.15it/s]\n",
      "100%|█████████████████████████████████████████████████████████████████████████| 4844/4844 [00:00<00:00, 3455895.32it/s]\n",
      "100%|████████████████████████████████████████████████████████████████████████| 4844/4844 [00:00<00:00, 13858941.73it/s]\n",
      "100%|█████████████████████████████████████████████████████████████████████████| 4844/4844 [00:00<00:00, 2879831.12it/s]\n",
      "100%|█████████████████████████████████████████████████████████████████████████| 4844/4844 [00:00<00:00, 4855929.39it/s]\n",
      "100%|█████████████████████████████████████████████████████████████████████████| 4844/4844 [00:00<00:00, 2419867.62it/s]\n",
      "100%|█████████████████████████████████████████████████████████████████████████| 4844/4844 [00:00<00:00, 4913472.45it/s]\n",
      "100%|█████████████████████████████████████████████████████████████████████████| 4844/4844 [00:00<00:00, 4846662.35it/s]\n",
      "100%|█████████████████████████████████████████████████████████████████████████| 4844/4844 [00:00<00:00, 3211699.11it/s]\n",
      "100%|█████████████████████████████████████████████████████████████████████████| 4844/4844 [00:00<00:00, 3061664.95it/s]\n",
      "100%|█████████████████████████████████████████████████████████████████████████| 4844/4844 [00:00<00:00, 2283088.95it/s]\n",
      "100%|█████████████████████████████████████████████████████████████████████████| 4844/4844 [00:00<00:00, 2867637.06it/s]\n",
      "100%|█████████████████████████████████████████████████████████████████████████| 4844/4844 [00:00<00:00, 4479102.42it/s]\n",
      "100%|█████████████████████████████████████████████████████████████████████████| 4844/4844 [00:00<00:00, 4859413.68it/s]\n",
      "100%|█████████████████████████████████████████████████████████████████████████| 4844/4844 [00:00<00:00, 4599775.54it/s]\n",
      "100%|█████████████████████████████████████████████████████████████████████████| 4844/4844 [00:00<00:00, 2096286.48it/s]\n",
      "100%|█████████████████████████████████████████████████████████████████████████| 4844/4844 [00:00<00:00, 4544220.21it/s]\n",
      "100%|█████████████████████████████████████████████████████████████████████████| 4844/4844 [00:00<00:00, 4850133.34it/s]\n",
      "100%|██████████████████████████████████████████████████████████████████████████████████████| 4844/4844 [00:00<?, ?it/s]\n",
      "100%|█████████████████████████████████████████████████████████████████████████| 4844/4844 [00:00<00:00, 4044030.37it/s]\n",
      "100%|█████████████████████████████████████████████████████████████████████████| 4844/4844 [00:00<00:00, 2037017.10it/s]\n",
      "100%|█████████████████████████████████████████████████████████████████████████| 4844/4844 [00:00<00:00, 4097863.77it/s]\n",
      "100%|█████████████████████████████████████████████████████████████████████████| 4844/4844 [00:00<00:00, 3873633.67it/s]\n",
      "100%|█████████████████████████████████████████████████████████████████████████| 4844/4844 [00:00<00:00, 2211757.96it/s]\n",
      "100%|█████████████████████████████████████████████████████████████████████████| 4844/4844 [00:00<00:00, 4751451.96it/s]\n",
      "100%|█████████████████████████████████████████████████████████████████████████| 4844/4844 [00:00<00:00, 2963852.45it/s]\n",
      "100%|█████████████████████████████████████████████████████████████████████████| 4844/4844 [00:00<00:00, 4770417.60it/s]\n",
      "100%|█████████████████████████████████████████████████████████████████████████| 4844/4844 [00:00<00:00, 2075090.24it/s]\n",
      "100%|█████████████████████████████████████████████████████████████████████████| 4844/4844 [00:00<00:00, 4855929.39it/s]\n",
      "100%|█████████████████████████████████████████████████████████████████████████| 4844/4844 [00:00<00:00, 2814797.53it/s]\n"
     ]
    },
    {
     "name": "stdout",
     "output_type": "stream",
     "text": [
      "CPU times: total: 8.33 s\n",
      "Wall time: 9.31 s\n"
     ]
    }
   ],
   "source": [
    "%%time\n",
    "\n",
    "for epoch in range(30):\n",
    "#     d2v_model.train(utils.shuffle(train_tagged.values), total_examples=len(train_tagged.values), epochs=1)\n",
    "\n",
    "    d2v_model.train(utils.shuffle([x for x in tqdm(train_tagged.values)]), total_examples=len(train_tagged.values), epochs=1)\n",
    "    d2v_model.alpha -= 0.002\n",
    "    d2v_model.min_alpha = d2v_model.alpha"
   ]
  },
  {
   "cell_type": "code",
   "execution_count": 22,
   "metadata": {
    "execution": {
     "iopub.execute_input": "2020-10-12T12:27:17.010712Z",
     "iopub.status.busy": "2020-10-12T12:27:17.009541Z",
     "iopub.status.idle": "2020-10-12T12:27:17.013494Z",
     "shell.execute_reply": "2020-10-12T12:27:17.014661Z"
    },
    "papermill": {
     "duration": 0.102522,
     "end_time": "2020-10-12T12:27:17.014909",
     "exception": false,
     "start_time": "2020-10-12T12:27:16.912387",
     "status": "completed"
    },
    "tags": []
   },
   "outputs": [
    {
     "name": "stdout",
     "output_type": "stream",
     "text": [
      "Doc2Vec<dm/m,d20,n5,w8,s0.001>\n"
     ]
    }
   ],
   "source": [
    "print(d2v_model)"
   ]
  },
  {
   "cell_type": "code",
   "execution_count": 23,
   "metadata": {
    "execution": {
     "iopub.execute_input": "2020-10-12T12:27:17.201967Z",
     "iopub.status.busy": "2020-10-12T12:27:17.200766Z",
     "iopub.status.idle": "2020-10-12T12:27:17.205291Z",
     "shell.execute_reply": "2020-10-12T12:27:17.204596Z"
    },
    "papermill": {
     "duration": 0.099901,
     "end_time": "2020-10-12T12:27:17.205421",
     "exception": false,
     "start_time": "2020-10-12T12:27:17.105520",
     "status": "completed"
    },
    "tags": []
   },
   "outputs": [
    {
     "data": {
      "text/plain": [
       "11682"
      ]
     },
     "execution_count": 23,
     "metadata": {},
     "output_type": "execute_result"
    }
   ],
   "source": [
    "len(d2v_model.wv)"
   ]
  },
  {
   "cell_type": "code",
   "execution_count": 24,
   "metadata": {
    "execution": {
     "iopub.execute_input": "2020-10-12T12:27:17.394356Z",
     "iopub.status.busy": "2020-10-12T12:27:17.393493Z",
     "iopub.status.idle": "2020-10-12T12:27:17.397508Z",
     "shell.execute_reply": "2020-10-12T12:27:17.396883Z"
    },
    "papermill": {
     "duration": 0.101069,
     "end_time": "2020-10-12T12:27:17.397647",
     "exception": false,
     "start_time": "2020-10-12T12:27:17.296578",
     "status": "completed"
    },
    "tags": []
   },
   "outputs": [
    {
     "name": "stdout",
     "output_type": "stream",
     "text": [
      "-5.1612597\n",
      "-0.7405589\n",
      "-4.154346\n"
     ]
    }
   ],
   "source": [
    "# save the vectors in a new matrix\n",
    "embedding_matrix = np.zeros((len(d2v_model.wv)+ 1, 20))\n",
    "\n",
    "for i, vec in enumerate(d2v_model.dv.vectors):\n",
    "#     enumerate() 函数用于将一个可遍历的数据对象(如列表、元组或字符串)组合为一个索引序列\n",
    "    while i in vec <= 1000:\n",
    "#     print(i)\n",
    "#     print(model.docvecs)\n",
    "        embedding_matrix[i]=vec\n",
    "#     print(vec)\n",
    "    print(vec[i])"
   ]
  },
  {
   "cell_type": "markdown",
   "metadata": {
    "papermill": {
     "duration": 0.089396,
     "end_time": "2020-10-12T12:27:17.576795",
     "exception": false,
     "start_time": "2020-10-12T12:27:17.487399",
     "status": "completed"
    },
    "tags": []
   },
   "source": [
    "# Measuring distance between two vectors (related to cosine similarity)"
   ]
  },
  {
   "cell_type": "code",
   "execution_count": 25,
   "metadata": {
    "execution": {
     "iopub.execute_input": "2020-10-12T12:27:17.761221Z",
     "iopub.status.busy": "2020-10-12T12:27:17.760471Z",
     "iopub.status.idle": "2020-10-12T12:27:17.771803Z",
     "shell.execute_reply": "2020-10-12T12:27:17.772439Z"
    },
    "papermill": {
     "duration": 0.106359,
     "end_time": "2020-10-12T12:27:17.772620",
     "exception": false,
     "start_time": "2020-10-12T12:27:17.666261",
     "status": "completed"
    },
    "tags": []
   },
   "outputs": [
    {
     "data": {
      "text/plain": [
       "[('loss', 0.8817566633224487),\n",
       " ('bill', 0.8089773654937744),\n",
       " ('pharma', 0.7367307543754578),\n",
       " ('4.9', 0.7343217134475708),\n",
       " ('income', 0.7280437350273132),\n",
       " ('celebrates', 0.7197151184082031),\n",
       " ('sharpest', 0.7102940082550049),\n",
       " ('44.0', 0.6942570209503174),\n",
       " ('sales', 0.6908271312713623),\n",
       " ('1.42', 0.6890868544578552)]"
      ]
     },
     "execution_count": 25,
     "metadata": {},
     "output_type": "execute_result"
    }
   ],
   "source": [
    "d2v_model.wv.most_similar(positive=['profit'], topn=10)"
   ]
  },
  {
   "cell_type": "code",
   "execution_count": 26,
   "metadata": {
    "execution": {
     "iopub.execute_input": "2020-10-12T12:27:17.965398Z",
     "iopub.status.busy": "2020-10-12T12:27:17.964632Z",
     "iopub.status.idle": "2020-10-12T12:27:17.971853Z",
     "shell.execute_reply": "2020-10-12T12:27:17.971196Z"
    },
    "papermill": {
     "duration": 0.10422,
     "end_time": "2020-10-12T12:27:17.971999",
     "exception": false,
     "start_time": "2020-10-12T12:27:17.867779",
     "status": "completed"
    },
    "tags": []
   },
   "outputs": [
    {
     "data": {
      "text/plain": [
       "[('fund', 0.8633069396018982),\n",
       " ('detailing', 0.7691982984542847),\n",
       " ('95.3', 0.7597294449806213),\n",
       " ('property', 0.7517062425613403),\n",
       " ('fair', 0.7352062463760376),\n",
       " ('municipality', 0.7315191626548767),\n",
       " ('hardest', 0.7084813117980957),\n",
       " ('i.', 0.6990671157836914),\n",
       " ('prepare', 0.6854556202888489),\n",
       " ('eploring', 0.6851708292961121)]"
      ]
     },
     "execution_count": 26,
     "metadata": {},
     "output_type": "execute_result"
    }
   ],
   "source": [
    "d2v_model.wv.most_similar(positive=['investment'], topn=10)\n"
   ]
  },
  {
   "cell_type": "code",
   "execution_count": 27,
   "metadata": {
    "execution": {
     "iopub.execute_input": "2020-10-12T12:27:18.168986Z",
     "iopub.status.busy": "2020-10-12T12:27:18.168217Z",
     "iopub.status.idle": "2020-10-12T12:27:18.175299Z",
     "shell.execute_reply": "2020-10-12T12:27:18.174527Z"
    },
    "papermill": {
     "duration": 0.108079,
     "end_time": "2020-10-12T12:27:18.175427",
     "exception": false,
     "start_time": "2020-10-12T12:27:18.067348",
     "status": "completed"
    },
    "tags": []
   },
   "outputs": [
    {
     "data": {
      "text/plain": [
       "[('mold', 0.9288378953933716),\n",
       " ('warmly', 0.8566070795059204),\n",
       " ('macro-economic', 0.8519800305366516),\n",
       " ('aboavista', 0.8456667065620422),\n",
       " ('aptly', 0.8417874574661255),\n",
       " ('gather', 0.8405716419219971),\n",
       " ('kivimeister', 0.8403241038322449),\n",
       " ('unsecured', 0.8396950960159302),\n",
       " ('happening', 0.8379810452461243),\n",
       " ('``', 0.8233175277709961)]"
      ]
     },
     "execution_count": 27,
     "metadata": {},
     "output_type": "execute_result"
    }
   ],
   "source": [
    "d2v_model.wv.most_similar(positive=['broke'], topn=10)"
   ]
  },
  {
   "cell_type": "code",
   "execution_count": 28,
   "metadata": {},
   "outputs": [
    {
     "name": "stdout",
     "output_type": "stream",
     "text": [
      "KeyedVectors<vector_size=20, 11682 keys>\n"
     ]
    }
   ],
   "source": [
    "print(d2v_model.wv)\n",
    "# for word in d2v_model.wv.index_to_key:\n",
    "#     print(word)"
   ]
  },
  {
   "cell_type": "markdown",
   "metadata": {
    "papermill": {
     "duration": 0.091436,
     "end_time": "2020-10-12T12:27:18.361351",
     "exception": false,
     "start_time": "2020-10-12T12:27:18.269915",
     "status": "completed"
    },
    "tags": []
   },
   "source": [
    "Plot Similarity word in Doc2vec"
   ]
  },
  {
   "cell_type": "code",
   "execution_count": 29,
   "metadata": {
    "execution": {
     "iopub.execute_input": "2020-10-12T12:27:18.566535Z",
     "iopub.status.busy": "2020-10-12T12:27:18.563808Z",
     "iopub.status.idle": "2020-10-12T12:27:18.682597Z",
     "shell.execute_reply": "2020-10-12T12:27:18.681749Z"
    },
    "papermill": {
     "duration": 0.229098,
     "end_time": "2020-10-12T12:27:18.682727",
     "exception": false,
     "start_time": "2020-10-12T12:27:18.453629",
     "status": "completed"
    },
    "tags": []
   },
   "outputs": [
    {
     "name": "stdout",
     "output_type": "stream",
     "text": [
      "第一步完成\n"
     ]
    },
    {
     "name": "stderr",
     "output_type": "stream",
     "text": [
      "C:\\Users\\Jiaqi\\AppData\\Local\\Programs\\Python\\Python310\\lib\\site-packages\\sklearn\\manifold\\_t_sne.py:805: FutureWarning: The default learning rate in TSNE will change from 200.0 to 'auto' in 1.2.\n",
      "  warnings.warn(\n",
      "C:\\Users\\Jiaqi\\AppData\\Local\\Programs\\Python\\Python310\\lib\\site-packages\\sklearn\\manifold\\_t_sne.py:991: FutureWarning: The PCA initialization in TSNE will change to have the standard deviation of PC1 equal to 1e-4 in 1.2. This will ensure better convergence.\n",
      "  warnings.warn(\n"
     ]
    },
    {
     "name": "stdout",
     "output_type": "stream",
     "text": [
      "第二步完成\n"
     ]
    },
    {
     "data": {
      "text/plain": [
       "<Figure size 1152x1152 with 0 Axes>"
      ]
     },
     "metadata": {},
     "output_type": "display_data"
    }
   ],
   "source": [
    "from sklearn.manifold import TSNE\n",
    "import matplotlib.pyplot as plt\n",
    "%matplotlib inline\n",
    "\n",
    "def tsne_plot(model):\n",
    "    \"Creates and TSNE model and plots it\"\n",
    "    labels = []\n",
    "    tokens = []\n",
    "    for word in d2v_model.wv.index_to_key:\n",
    "#         print(\"#\", end='')\n",
    "        tokens.append(model[word])\n",
    "        labels.append(word)\n",
    "    print(\"第一步完成\")\n",
    "    tsne_model = TSNE(perplexity=40, n_components=2, init='pca', n_iter=250, random_state=23)\n",
    "    new_values = tsne_model.fit_transform(tokens)\n",
    "    \n",
    "    x = []\n",
    "    y = []\n",
    "    for value in new_values:\n",
    "        x.append(value[0])\n",
    "        y.append(value[1])\n",
    "    print(\"第二步完成\")\n",
    "\n",
    "    \n",
    "    plt.figure(figsize=(16, 16)) \n",
    "#     print(\"开始画图\")\n",
    "#     for i in range(len(x)):\n",
    "#         plt.scatter(x[i],y[i])\n",
    "#         plt.annotate(labels[i],\n",
    "#                      xy=(x[i], y[i]),\n",
    "#                      xytext=(5, 2),\n",
    "#                      textcoords='offset points',\n",
    "#                      ha='right',\n",
    "#                      va='bottom')\n",
    "    \n",
    "#     plt.show()\n",
    "    \n",
    "tsne_plot(d2v_model)"
   ]
  },
  {
   "cell_type": "markdown",
   "metadata": {
    "papermill": {
     "duration": 0.121792,
     "end_time": "2020-10-12T12:41:07.554437",
     "exception": false,
     "start_time": "2020-10-12T12:41:07.432645",
     "status": "completed"
    },
    "tags": []
   },
   "source": [
    "# Create the LSTM Model\n",
    "\n",
    "The parameter used here inspired by [3].\n",
    "\n"
   ]
  },
  {
   "cell_type": "code",
   "execution_count": 30,
   "metadata": {
    "execution": {
     "iopub.execute_input": "2020-10-12T12:41:07.812571Z",
     "iopub.status.busy": "2020-10-12T12:41:07.810122Z",
     "iopub.status.idle": "2020-10-12T12:41:09.303718Z",
     "shell.execute_reply": "2020-10-12T12:41:09.304591Z"
    },
    "papermill": {
     "duration": 1.627566,
     "end_time": "2020-10-12T12:41:09.304839",
     "exception": false,
     "start_time": "2020-10-12T12:41:07.677273",
     "status": "completed"
    },
    "tags": []
   },
   "outputs": [
    {
     "name": "stdout",
     "output_type": "stream",
     "text": [
      "Model: \"sequential\"\n",
      "_________________________________________________________________\n",
      " Layer (type)                Output Shape              Param #   \n",
      "=================================================================\n",
      " embedding (Embedding)       (None, 50, 20)            233660    \n",
      "                                                                 \n",
      " lstm (LSTM)                 (None, 50)                14200     \n",
      "                                                                 \n",
      " dense (Dense)               (None, 3)                 153       \n",
      "                                                                 \n",
      "=================================================================\n",
      "Total params: 248,013\n",
      "Trainable params: 248,013\n",
      "Non-trainable params: 0\n",
      "_________________________________________________________________\n"
     ]
    }
   ],
   "source": [
    "from keras.models import Sequential\n",
    "from keras.layers import LSTM, Dense, Embedding\n",
    "\n",
    "\n",
    "# init layer\n",
    "model = Sequential()\n",
    "# 顺序模型\n",
    "\n",
    "\n",
    "# emmbed word vectors\n",
    "model.add(Embedding(len(d2v_model.wv)+1,20,input_length=X.shape[1],weights=[embedding_matrix],trainable=True))\n",
    "\n",
    "# learn the correlations\n",
    "def split_input(sequence):\n",
    "     return sequence[:-1], tf.reshape(sequence[1:], (-1,1))\n",
    "    \n",
    "    \n",
    "model.add(LSTM(50,return_sequences=False))\n",
    "# FC层在keras中叫做Dense层\n",
    "model.add(Dense(3,activation=\"softmax\"))\n",
    "\n",
    "# output model skeleton\n",
    "model.summary()\n",
    "model.compile(optimizer=\"adam\",loss=\"binary_crossentropy\",metrics=['acc'])"
   ]
  },
  {
   "cell_type": "code",
   "execution_count": 31,
   "metadata": {
    "execution": {
     "iopub.execute_input": "2020-10-12T12:41:09.560246Z",
     "iopub.status.busy": "2020-10-12T12:41:09.559286Z",
     "iopub.status.idle": "2020-10-12T12:41:10.085335Z",
     "shell.execute_reply": "2020-10-12T12:41:10.084534Z"
    },
    "papermill": {
     "duration": 0.655789,
     "end_time": "2020-10-12T12:41:10.085483",
     "exception": false,
     "start_time": "2020-10-12T12:41:09.429694",
     "status": "completed"
    },
    "tags": []
   },
   "outputs": [
    {
     "ename": "ModuleNotFoundError",
     "evalue": "No module named 'pydot'",
     "output_type": "error",
     "traceback": [
      "\u001b[1;31m---------------------------------------------------------------------------\u001b[0m",
      "\u001b[1;31mModuleNotFoundError\u001b[0m                       Traceback (most recent call last)",
      "Input \u001b[1;32mIn [31]\u001b[0m, in \u001b[0;36m<cell line: 2>\u001b[1;34m()\u001b[0m\n\u001b[0;32m      1\u001b[0m \u001b[38;5;28;01mfrom\u001b[39;00m \u001b[38;5;21;01mkeras\u001b[39;00m\u001b[38;5;21;01m.\u001b[39;00m\u001b[38;5;21;01mutils\u001b[39;00m \u001b[38;5;28;01mimport\u001b[39;00m plot_model\n\u001b[1;32m----> 2\u001b[0m \u001b[38;5;28;01mimport\u001b[39;00m \u001b[38;5;21;01mpydot\u001b[39;00m\n\u001b[0;32m      3\u001b[0m \u001b[38;5;28;01mimport\u001b[39;00m \u001b[38;5;21;01mgraphviz\u001b[39;00m\n\u001b[0;32m      4\u001b[0m plot_model(model, to_file\u001b[38;5;241m=\u001b[39m\u001b[38;5;124m'\u001b[39m\u001b[38;5;124mmodel.png\u001b[39m\u001b[38;5;124m'\u001b[39m)\n",
      "\u001b[1;31mModuleNotFoundError\u001b[0m: No module named 'pydot'"
     ]
    }
   ],
   "source": [
    "from keras.utils import plot_model\n",
    "import pydot\n",
    "import graphviz\n",
    "plot_model(model, to_file='model.png')"
   ]
  },
  {
   "cell_type": "code",
   "execution_count": 32,
   "metadata": {
    "execution": {
     "iopub.execute_input": "2020-10-12T12:41:10.344650Z",
     "iopub.status.busy": "2020-10-12T12:41:10.343769Z",
     "iopub.status.idle": "2020-10-12T12:41:10.352385Z",
     "shell.execute_reply": "2020-10-12T12:41:10.351730Z"
    },
    "papermill": {
     "duration": 0.141525,
     "end_time": "2020-10-12T12:41:10.352514",
     "exception": false,
     "start_time": "2020-10-12T12:41:10.210989",
     "status": "completed"
    },
    "tags": []
   },
   "outputs": [
    {
     "name": "stdout",
     "output_type": "stream",
     "text": [
      "(4118, 50) (4118, 3)\n",
      "(727, 50) (727, 3)\n"
     ]
    }
   ],
   "source": [
    "Y = pd.get_dummies(df['sentiment']).values\n",
    "X_train, X_test, Y_train, Y_test = train_test_split(X,Y, test_size = 0.15, random_state = 17)\n",
    "print(X_train.shape,Y_train.shape)\n",
    "print(X_test.shape,Y_test.shape)"
   ]
  },
  {
   "cell_type": "code",
   "execution_count": 33,
   "metadata": {
    "execution": {
     "iopub.execute_input": "2020-10-12T12:41:10.608444Z",
     "iopub.status.busy": "2020-10-12T12:41:10.607635Z",
     "iopub.status.idle": "2020-10-12T12:43:46.025691Z",
     "shell.execute_reply": "2020-10-12T12:43:46.026547Z"
    },
    "papermill": {
     "duration": 155.548128,
     "end_time": "2020-10-12T12:43:46.026784",
     "exception": false,
     "start_time": "2020-10-12T12:41:10.478656",
     "status": "completed"
    },
    "scrolled": false,
    "tags": []
   },
   "outputs": [
    {
     "name": "stdout",
     "output_type": "stream",
     "text": [
      "Epoch 1/50\n",
      "206/206 - 5s - loss: 0.5234 - acc: 0.6178 - 5s/epoch - 23ms/step\n",
      "Epoch 2/50\n",
      "206/206 - 2s - loss: 0.3807 - acc: 0.7334 - 2s/epoch - 12ms/step\n",
      "Epoch 3/50\n",
      "206/206 - 2s - loss: 0.2835 - acc: 0.8079 - 2s/epoch - 12ms/step\n",
      "Epoch 4/50\n",
      "206/206 - 2s - loss: 0.2256 - acc: 0.8424 - 2s/epoch - 12ms/step\n",
      "Epoch 5/50\n",
      "206/206 - 2s - loss: 0.1771 - acc: 0.8774 - 2s/epoch - 12ms/step\n",
      "Epoch 6/50\n",
      "206/206 - 2s - loss: 0.1030 - acc: 0.9526 - 2s/epoch - 12ms/step\n",
      "Epoch 7/50\n",
      "206/206 - 3s - loss: 0.0679 - acc: 0.9706 - 3s/epoch - 13ms/step\n",
      "Epoch 8/50\n",
      "206/206 - 3s - loss: 0.0713 - acc: 0.9655 - 3s/epoch - 13ms/step\n",
      "Epoch 9/50\n",
      "206/206 - 3s - loss: 0.0392 - acc: 0.9840 - 3s/epoch - 13ms/step\n",
      "Epoch 10/50\n",
      "206/206 - 3s - loss: 0.0359 - acc: 0.9840 - 3s/epoch - 13ms/step\n",
      "Epoch 11/50\n",
      "206/206 - 3s - loss: 0.0229 - acc: 0.9913 - 3s/epoch - 14ms/step\n",
      "Epoch 12/50\n",
      "206/206 - 3s - loss: 0.0170 - acc: 0.9925 - 3s/epoch - 12ms/step\n",
      "Epoch 13/50\n",
      "206/206 - 2s - loss: 0.0183 - acc: 0.9925 - 2s/epoch - 10ms/step\n",
      "Epoch 14/50\n",
      "206/206 - 2s - loss: 0.0165 - acc: 0.9930 - 2s/epoch - 11ms/step\n",
      "Epoch 15/50\n",
      "206/206 - 3s - loss: 0.0156 - acc: 0.9939 - 3s/epoch - 13ms/step\n",
      "Epoch 16/50\n",
      "206/206 - 3s - loss: 0.0137 - acc: 0.9947 - 3s/epoch - 13ms/step\n",
      "Epoch 17/50\n",
      "206/206 - 3s - loss: 0.0124 - acc: 0.9949 - 3s/epoch - 14ms/step\n",
      "Epoch 18/50\n",
      "206/206 - 2s - loss: 0.0123 - acc: 0.9951 - 2s/epoch - 10ms/step\n",
      "Epoch 19/50\n",
      "206/206 - 3s - loss: 0.0117 - acc: 0.9944 - 3s/epoch - 13ms/step\n",
      "Epoch 20/50\n",
      "206/206 - 3s - loss: 0.0082 - acc: 0.9956 - 3s/epoch - 13ms/step\n",
      "Epoch 21/50\n",
      "206/206 - 3s - loss: 0.0119 - acc: 0.9939 - 3s/epoch - 13ms/step\n",
      "Epoch 22/50\n",
      "206/206 - 3s - loss: 0.0076 - acc: 0.9956 - 3s/epoch - 13ms/step\n",
      "Epoch 23/50\n",
      "206/206 - 3s - loss: 0.0070 - acc: 0.9968 - 3s/epoch - 13ms/step\n",
      "Epoch 24/50\n",
      "206/206 - 3s - loss: 0.0050 - acc: 0.9981 - 3s/epoch - 13ms/step\n",
      "Epoch 25/50\n",
      "206/206 - 3s - loss: 0.0051 - acc: 0.9983 - 3s/epoch - 13ms/step\n",
      "Epoch 26/50\n",
      "206/206 - 3s - loss: 0.0081 - acc: 0.9971 - 3s/epoch - 13ms/step\n",
      "Epoch 27/50\n",
      "206/206 - 3s - loss: 0.0067 - acc: 0.9968 - 3s/epoch - 13ms/step\n",
      "Epoch 28/50\n",
      "206/206 - 3s - loss: 0.0076 - acc: 0.9973 - 3s/epoch - 13ms/step\n",
      "Epoch 29/50\n",
      "206/206 - 3s - loss: 0.0133 - acc: 0.9937 - 3s/epoch - 13ms/step\n",
      "Epoch 30/50\n",
      "206/206 - 3s - loss: 0.0075 - acc: 0.9959 - 3s/epoch - 13ms/step\n",
      "Epoch 31/50\n",
      "206/206 - 3s - loss: 0.0039 - acc: 0.9978 - 3s/epoch - 13ms/step\n",
      "Epoch 32/50\n",
      "206/206 - 3s - loss: 0.0033 - acc: 0.9976 - 3s/epoch - 13ms/step\n",
      "Epoch 33/50\n",
      "206/206 - 3s - loss: 0.0028 - acc: 0.9983 - 3s/epoch - 13ms/step\n",
      "Epoch 34/50\n",
      "206/206 - 3s - loss: 0.0033 - acc: 0.9978 - 3s/epoch - 14ms/step\n",
      "Epoch 35/50\n",
      "206/206 - 3s - loss: 0.0030 - acc: 0.9978 - 3s/epoch - 13ms/step\n",
      "Epoch 36/50\n",
      "206/206 - 3s - loss: 0.0023 - acc: 0.9978 - 3s/epoch - 13ms/step\n",
      "Epoch 37/50\n",
      "206/206 - 3s - loss: 0.0027 - acc: 0.9973 - 3s/epoch - 13ms/step\n",
      "Epoch 38/50\n",
      "206/206 - 3s - loss: 0.0021 - acc: 0.9978 - 3s/epoch - 13ms/step\n",
      "Epoch 39/50\n",
      "206/206 - 3s - loss: 0.0020 - acc: 0.9976 - 3s/epoch - 13ms/step\n",
      "Epoch 40/50\n",
      "206/206 - 3s - loss: 0.0140 - acc: 0.9932 - 3s/epoch - 13ms/step\n",
      "Epoch 41/50\n",
      "206/206 - 3s - loss: 0.0138 - acc: 0.9927 - 3s/epoch - 13ms/step\n",
      "Epoch 42/50\n",
      "206/206 - 3s - loss: 0.0060 - acc: 0.9966 - 3s/epoch - 13ms/step\n",
      "Epoch 43/50\n",
      "206/206 - 3s - loss: 0.0033 - acc: 0.9973 - 3s/epoch - 13ms/step\n",
      "Epoch 44/50\n",
      "206/206 - 3s - loss: 0.0056 - acc: 0.9959 - 3s/epoch - 13ms/step\n",
      "Epoch 45/50\n",
      "206/206 - 3s - loss: 0.0106 - acc: 0.9947 - 3s/epoch - 13ms/step\n",
      "Epoch 46/50\n",
      "206/206 - 3s - loss: 0.0062 - acc: 0.9964 - 3s/epoch - 13ms/step\n",
      "Epoch 47/50\n",
      "206/206 - 3s - loss: 0.0024 - acc: 0.9983 - 3s/epoch - 13ms/step\n",
      "Epoch 48/50\n",
      "206/206 - 3s - loss: 0.0022 - acc: 0.9976 - 3s/epoch - 13ms/step\n",
      "Epoch 49/50\n",
      "206/206 - 3s - loss: 0.0020 - acc: 0.9976 - 3s/epoch - 13ms/step\n",
      "Epoch 50/50\n",
      "206/206 - 3s - loss: 0.0019 - acc: 0.9983 - 3s/epoch - 14ms/step\n"
     ]
    }
   ],
   "source": [
    "batch_size = 20\n",
    "history=model.fit(X_train, Y_train, epochs =50, batch_size=batch_size, verbose = 2)\n",
    "# 87%\n",
    "# batch_size = 20\n",
    "# history=model.fit(X_train, Y_train, epochs =50, batch_size=batch_size, verbose = 2)"
   ]
  },
  {
   "cell_type": "code",
   "execution_count": 37,
   "metadata": {
    "execution": {
     "iopub.execute_input": "2020-10-12T12:43:46.378339Z",
     "iopub.status.busy": "2020-10-12T12:43:46.376810Z",
     "iopub.status.idle": "2020-10-12T12:43:46.741316Z",
     "shell.execute_reply": "2020-10-12T12:43:46.740620Z"
    },
    "papermill": {
     "duration": 0.541444,
     "end_time": "2020-10-12T12:43:46.741447",
     "exception": false,
     "start_time": "2020-10-12T12:43:46.200003",
     "status": "completed"
    },
    "tags": []
   },
   "outputs": [
    {
     "data": {
      "image/png": "[encoded data removed]",
      "text/plain": [
       "<Figure size 432x288 with 1 Axes>"
      ]
     },
     "metadata": {
      "needs_background": "light"
     },
     "output_type": "display_data"
    },
    {
     "data": {
      "image/png": "[encoded data removed]",
      "text/plain": [
       "<Figure size 432x288 with 1 Axes>"
      ]
     },
     "metadata": {
      "needs_background": "light"
     },
     "output_type": "display_data"
    },
    {
     "data": {
      "text/plain": [
       "<Figure size 432x288 with 0 Axes>"
      ]
     },
     "metadata": {},
     "output_type": "display_data"
    }
   ],
   "source": [
    "plt.plot(history.history['acc'])\n",
    "plt.title('model accuracy')\n",
    "plt.ylabel('acc')\n",
    "plt.xlabel('epochs')\n",
    "plt.legend(['train', 'test'], loc='upper left')\n",
    "plt.show()\n",
    "plt.savefig('model_accuracy.png')\n",
    "\n",
    "# summarize history for loss\n",
    "plt.plot(history.history['loss'])\n",
    "#plt.plot(history.history['val_loss'])\n",
    "plt.title('model loss')\n",
    "plt.ylabel('loss')\n",
    "plt.xlabel('epochs')\n",
    "plt.legend(['train', 'test'], loc='upper left')\n",
    "plt.show()\n",
    "plt.savefig('model_loss.png')"
   ]
  },
  {
   "cell_type": "code",
   "execution_count": 38,
   "metadata": {
    "execution": {
     "iopub.execute_input": "2020-10-12T12:43:47.087448Z",
     "iopub.status.busy": "2020-10-12T12:43:47.086375Z",
     "iopub.status.idle": "2020-10-12T12:43:48.648960Z",
     "shell.execute_reply": "2020-10-12T12:43:48.648234Z"
    },
    "papermill": {
     "duration": 1.738385,
     "end_time": "2020-10-12T12:43:48.649121",
     "exception": false,
     "start_time": "2020-10-12T12:43:46.910736",
     "status": "completed"
    },
    "tags": []
   },
   "outputs": [
    {
     "name": "stdout",
     "output_type": "stream",
     "text": [
      "129/129 - 1s - loss: 0.0015 - acc: 0.9990 - 705ms/epoch - 5ms/step\n",
      "23/23 - 0s - loss: 1.1496 - acc: 0.7359 - 129ms/epoch - 6ms/step\n",
      "Train: 0.999, Test: 0.7359\n"
     ]
    }
   ],
   "source": [
    "# evaluate the model\n",
    "_, train_acc = model.evaluate(X_train, Y_train, verbose=2)\n",
    "_, test_acc = model.evaluate(X_test, Y_test, verbose=2)\n",
    "print('Train: %.3f, Test: %.4f' % (train_acc, test_acc))"
   ]
  },
  {
   "cell_type": "code",
   "execution_count": 39,
   "metadata": {
    "execution": {
     "iopub.execute_input": "2020-10-12T12:43:48.986718Z",
     "iopub.status.busy": "2020-10-12T12:43:48.985884Z",
     "iopub.status.idle": "2020-10-12T12:43:49.764517Z",
     "shell.execute_reply": "2020-10-12T12:43:49.763845Z"
    },
    "papermill": {
     "duration": 0.950111,
     "end_time": "2020-10-12T12:43:49.764671",
     "exception": false,
     "start_time": "2020-10-12T12:43:48.814560",
     "status": "completed"
    },
    "tags": []
   },
   "outputs": [
    {
     "name": "stdout",
     "output_type": "stream",
     "text": [
      "23/23 [==============================] - 0s 6ms/step\n",
      "[array([[4.9127657e-11, 1.0000000e+00, 8.9575215e-11],\n",
      "       [1.6450424e-12, 1.0000000e+00, 1.7676286e-12],\n",
      "       [6.8038105e-07, 9.9999917e-01, 1.4195248e-07],\n",
      "       ...,\n",
      "       [9.9999678e-01, 2.1558972e-06, 1.0634305e-06],\n",
      "       [1.7284724e-10, 1.0000000e+00, 1.8575166e-10],\n",
      "       [1.3561961e-01, 8.6436349e-01, 1.6904452e-05]], dtype=float32), array([1, 1, 1, 0, 1, 1, 1, 1, 1, 1, 1, 1, 0, 0, 1, 1, 0, 1, 2, 0, 1, 0,\n",
      "       1, 1, 1, 0, 0, 1, 0, 0, 1, 2, 1, 1, 1, 1, 0, 1, 1, 0, 1, 1, 1, 1,\n",
      "       2, 1, 1, 0, 1, 1, 0, 0, 1, 2, 1, 0, 0, 2, 1, 1, 1, 0, 1, 0, 2, 1,\n",
      "       1, 1, 1, 0, 1, 0, 1, 0, 2, 1, 1, 0, 1, 0, 0, 1, 0, 1, 0, 2, 0, 2,\n",
      "       1, 1, 1, 1, 2, 1, 2, 1, 1, 1, 1, 1, 0, 0, 0, 1, 0, 1, 1, 2, 0, 1,\n",
      "       0, 2, 0, 1, 1, 1, 1, 1, 1, 2, 1, 1, 0, 1, 1, 1, 1, 1, 1, 0, 1, 1,\n",
      "       0, 1, 0, 1, 1, 1, 1, 1, 1, 1, 1, 1, 0, 1, 1, 1, 1, 0, 1, 0, 1, 0,\n",
      "       0, 0, 1, 0, 0, 1, 0, 2, 0, 1, 0, 0, 1, 0, 1, 1, 1, 1, 1, 0, 0, 1,\n",
      "       1, 1, 1, 1, 1, 0, 1, 1, 1, 0, 0, 1, 1, 0, 1, 1, 1, 1, 1, 1, 1, 1,\n",
      "       1, 1, 1, 1, 1, 0, 0, 0, 1, 1, 0, 0, 2, 0, 0, 1, 1, 0, 1, 1, 0, 1,\n",
      "       1, 1, 1, 1, 1, 1, 0, 1, 1, 1, 0, 1, 0, 1, 1, 0, 0, 1, 1, 1, 1, 0,\n",
      "       1, 1, 1, 0, 1, 1, 0, 1, 1, 0, 1, 1, 1, 1, 0, 1, 2, 0, 0, 2, 1, 1,\n",
      "       0, 1, 0, 1, 1, 0, 1, 0, 1, 2, 1, 2, 1, 1, 0, 1, 0, 2, 1, 1, 1, 0,\n",
      "       1, 1, 0, 0, 0, 1, 2, 1, 1, 1, 2, 1, 0, 1, 0, 1, 1, 1, 1, 1, 1, 2,\n",
      "       1, 0, 2, 0, 1, 0, 0, 1, 1, 1, 0, 1, 1, 2, 0, 1, 0, 1, 1, 1, 0, 2,\n",
      "       1, 1, 0, 1, 1, 0, 1, 1, 1, 0, 2, 0, 0, 1, 1, 1, 0, 0, 1, 0, 1, 1,\n",
      "       1, 0, 0, 1, 1, 1, 0, 1, 1, 0, 1, 0, 2, 1, 2, 1, 0, 2, 1, 0, 1, 2,\n",
      "       0, 2, 1, 0, 1, 0, 0, 1, 0, 1, 0, 1, 1, 0, 1, 1, 0, 1, 1, 1, 1, 0,\n",
      "       1, 0, 0, 0, 1, 0, 2, 1, 1, 0, 1, 1, 0, 0, 1, 1, 2, 1, 1, 1, 1, 1,\n",
      "       1, 1, 1, 1, 1, 1, 0, 1, 1, 1, 1, 1, 0, 0, 1, 2, 1, 1, 0, 1, 2, 0,\n",
      "       0, 1, 0, 1, 1, 0, 1, 1, 0, 1, 1, 1, 1, 1, 0, 1, 2, 0, 1, 1, 0, 1,\n",
      "       1, 1, 1, 1, 1, 0, 0, 2, 0, 1, 1, 0, 1, 1, 1, 1, 1, 1, 1, 2, 1, 1,\n",
      "       2, 0, 0, 2, 0, 0, 1, 1, 0, 1, 1, 1, 1, 0, 0, 2, 1, 1, 1, 1, 0, 1,\n",
      "       0, 1, 1, 1, 1, 1, 1, 1, 0, 1, 2, 0, 1, 2, 1, 2, 1, 1, 1, 1, 0, 2,\n",
      "       2, 2, 0, 0, 0, 1, 0, 2, 0, 1, 1, 1, 0, 1, 1, 0, 1, 1, 0, 1, 0, 1,\n",
      "       1, 1, 0, 1, 2, 1, 2, 0, 1, 1, 0, 1, 1, 0, 0, 1, 2, 1, 1, 1, 1, 0,\n",
      "       2, 2, 0, 1, 2, 1, 1, 1, 1, 1, 1, 1, 1, 1, 1, 1, 0, 0, 0, 0, 0, 1,\n",
      "       0, 2, 0, 0, 1, 1, 1, 0, 2, 0, 1, 0, 0, 1, 0, 2, 1, 1, 1, 1, 1, 1,\n",
      "       0, 1, 1, 1, 0, 2, 1, 0, 0, 1, 2, 2, 0, 2, 1, 1, 1, 1, 0, 1, 0, 1,\n",
      "       1, 2, 1, 1, 1, 0, 2, 0, 0, 2, 1, 1, 1, 0, 1, 0, 0, 1, 1, 1, 2, 2,\n",
      "       1, 1, 1, 1, 0, 0, 1, 0, 1, 0, 1, 1, 1, 0, 1, 1, 1, 0, 1, 0, 0, 0,\n",
      "       0, 1, 0, 1, 1, 0, 1, 1, 0, 1, 1, 1, 0, 0, 1, 1, 1, 1, 2, 1, 2, 0,\n",
      "       1, 1, 2, 1, 1, 1, 0, 1, 1, 1, 2, 1, 1, 1, 0, 0, 1, 1, 1, 0, 0, 1,\n",
      "       1], dtype=int64)]\n"
     ]
    }
   ],
   "source": [
    "# predict probabilities for test set\n",
    "yhat_probs = model.predict(X_test, verbose=0)\n",
    "# print(yhat_probs)\n",
    "# predict crisp classes for test set\n",
    "# yhat_classes = model.predict_classes(X_test, verbose=0)\n",
    "\n",
    "predict_x = model.predict(X_test) \n",
    "classes_x = np.argmax(predict_x,axis=1)\n",
    "\n",
    "yhat_classes = [predict_x, classes_x]\n",
    "print(yhat_classes)\n",
    "# reduce to 1d array\n",
    "#yhat_probs = yhat_probs[:, 0]\n",
    "#yhat_classes = yhat_classes[:, 1"
   ]
  },
  {
   "cell_type": "code",
   "execution_count": 40,
   "metadata": {
    "execution": {
     "iopub.execute_input": "2020-10-12T12:43:50.104353Z",
     "iopub.status.busy": "2020-10-12T12:43:50.103137Z",
     "iopub.status.idle": "2020-10-12T12:43:50.107313Z",
     "shell.execute_reply": "2020-10-12T12:43:50.107971Z"
    },
    "papermill": {
     "duration": 0.178295,
     "end_time": "2020-10-12T12:43:50.108187",
     "exception": false,
     "start_time": "2020-10-12T12:43:49.929892",
     "status": "completed"
    },
    "tags": []
   },
   "outputs": [
    {
     "data": {
      "text/plain": [
       "array([1, 1, 1, 0, 2, 1, 1, 1, 2, 1, 1, 0, 1, 0, 1, 2, 2, 1, 2, 1, 1, 0,\n",
       "       1, 0, 1, 1, 0, 0, 1, 0, 0, 2, 1, 1, 0, 1, 0, 1, 1, 1, 1, 1, 1, 1,\n",
       "       2, 1, 0, 0, 1, 1, 0, 1, 1, 2, 1, 0, 0, 2, 1, 1, 1, 1, 1, 2, 2, 1,\n",
       "       1, 1, 1, 0, 1, 0, 1, 1, 2, 1, 1, 0, 1, 1, 0, 1, 0, 1, 0, 0, 0, 2,\n",
       "       1, 1, 1, 1, 2, 1, 2, 1, 1, 1, 1, 1, 0, 0, 0, 0, 1, 1, 2, 2, 0, 1,\n",
       "       0, 2, 0, 1, 0, 1, 1, 1, 1, 1, 1, 1, 0, 1, 1, 1, 1, 1, 1, 1, 1, 1,\n",
       "       1, 1, 0, 1, 1, 1, 1, 1, 0, 1, 1, 1, 0, 1, 1, 1, 1, 2, 1, 1, 1, 1,\n",
       "       0, 2, 1, 0, 0, 0, 1, 1, 0, 1, 0, 1, 1, 0, 1, 1, 1, 1, 1, 1, 2, 1,\n",
       "       1, 1, 1, 1, 1, 0, 1, 1, 1, 0, 0, 1, 1, 2, 0, 1, 0, 1, 1, 1, 1, 1,\n",
       "       1, 1, 1, 1, 1, 0, 0, 0, 1, 2, 1, 0, 2, 0, 1, 1, 1, 0, 1, 1, 1, 0,\n",
       "       1, 0, 1, 0, 1, 1, 0, 2, 1, 1, 0, 1, 1, 1, 1, 0, 0, 1, 1, 1, 2, 1,\n",
       "       1, 1, 1, 1, 1, 1, 1, 1, 1, 1, 1, 1, 1, 1, 1, 1, 1, 0, 0, 2, 1, 0,\n",
       "       1, 0, 0, 0, 1, 0, 1, 0, 1, 0, 1, 0, 1, 1, 2, 1, 0, 1, 1, 1, 0, 0,\n",
       "       1, 0, 0, 0, 2, 1, 2, 2, 1, 0, 1, 1, 0, 1, 0, 1, 1, 1, 1, 1, 1, 2,\n",
       "       1, 0, 2, 2, 1, 0, 0, 1, 1, 1, 0, 1, 1, 0, 0, 1, 0, 1, 2, 0, 0, 2,\n",
       "       0, 1, 0, 1, 1, 1, 1, 1, 1, 0, 2, 0, 1, 1, 1, 1, 1, 0, 1, 0, 1, 1,\n",
       "       1, 0, 0, 1, 2, 1, 0, 1, 0, 0, 0, 0, 2, 1, 1, 1, 1, 1, 1, 0, 1, 1,\n",
       "       0, 2, 0, 1, 1, 0, 0, 2, 0, 1, 1, 1, 1, 1, 1, 1, 0, 1, 2, 0, 1, 0,\n",
       "       1, 0, 0, 0, 0, 0, 0, 1, 2, 1, 0, 1, 1, 2, 0, 0, 2, 1, 1, 1, 1, 1,\n",
       "       1, 1, 1, 1, 1, 2, 0, 1, 1, 1, 1, 1, 0, 0, 0, 1, 1, 1, 1, 1, 2, 0,\n",
       "       1, 1, 2, 1, 1, 1, 1, 1, 1, 1, 1, 1, 0, 0, 1, 1, 2, 0, 1, 1, 0, 1,\n",
       "       1, 1, 1, 1, 1, 1, 1, 1, 1, 1, 1, 0, 1, 1, 0, 1, 1, 0, 1, 2, 0, 1,\n",
       "       2, 1, 2, 2, 1, 0, 1, 0, 0, 1, 1, 1, 1, 1, 2, 2, 1, 2, 1, 1, 0, 1,\n",
       "       0, 1, 0, 0, 1, 0, 1, 1, 0, 1, 2, 1, 1, 2, 1, 0, 1, 1, 2, 0, 0, 2,\n",
       "       1, 2, 0, 1, 0, 0, 0, 1, 1, 0, 1, 1, 0, 1, 1, 1, 1, 1, 2, 1, 0, 1,\n",
       "       1, 0, 0, 1, 2, 1, 2, 0, 0, 2, 0, 1, 0, 1, 0, 1, 0, 1, 1, 0, 1, 0,\n",
       "       2, 1, 1, 1, 2, 1, 0, 1, 1, 1, 0, 0, 1, 1, 1, 1, 0, 0, 1, 0, 0, 1,\n",
       "       1, 1, 0, 2, 1, 0, 0, 1, 2, 1, 0, 0, 1, 1, 0, 2, 1, 1, 1, 1, 2, 1,\n",
       "       1, 1, 1, 0, 0, 2, 1, 0, 0, 1, 0, 1, 2, 1, 1, 1, 1, 1, 1, 2, 0, 1,\n",
       "       1, 2, 1, 1, 0, 0, 2, 0, 0, 0, 1, 1, 1, 0, 0, 0, 0, 1, 1, 1, 2, 2,\n",
       "       1, 1, 2, 1, 0, 0, 1, 0, 1, 0, 1, 1, 1, 0, 1, 1, 1, 2, 1, 1, 0, 1,\n",
       "       0, 1, 0, 1, 1, 2, 1, 1, 0, 0, 1, 1, 0, 0, 1, 1, 2, 1, 1, 1, 2, 1,\n",
       "       1, 2, 2, 1, 1, 1, 0, 1, 1, 1, 2, 1, 1, 1, 0, 0, 0, 0, 1, 1, 2, 0,\n",
       "       1], dtype=int64)"
      ]
     },
     "execution_count": 40,
     "metadata": {},
     "output_type": "execute_result"
    }
   ],
   "source": [
    "import numpy as np\n",
    "rounded_labels=np.argmax(Y_test, axis=1)\n",
    "rounded_labels"
   ]
  },
  {
   "cell_type": "code",
   "execution_count": 41,
   "metadata": {
    "execution": {
     "iopub.execute_input": "2020-10-12T12:43:50.462368Z",
     "iopub.status.busy": "2020-10-12T12:43:50.461233Z",
     "iopub.status.idle": "2020-10-12T12:43:50.472789Z",
     "shell.execute_reply": "2020-10-12T12:43:50.473661Z"
    },
    "papermill": {
     "duration": 0.186503,
     "end_time": "2020-10-12T12:43:50.473880",
     "exception": false,
     "start_time": "2020-10-12T12:43:50.287377",
     "status": "completed"
    },
    "tags": []
   },
   "outputs": [
    {
     "data": {
      "text/plain": [
       "array([[138,  61,   9],\n",
       "       [ 64, 351,  17],\n",
       "       [ 19,  22,  46]], dtype=int64)"
      ]
     },
     "execution_count": 41,
     "metadata": {},
     "output_type": "execute_result"
    }
   ],
   "source": [
    "from sklearn.metrics import confusion_matrix\n",
    "\n",
    "cm = confusion_matrix(rounded_labels, yhat_classes[1])\n",
    "cm"
   ]
  },
  {
   "cell_type": "code",
   "execution_count": 42,
   "metadata": {
    "execution": {
     "iopub.execute_input": "2020-10-12T12:43:50.837934Z",
     "iopub.status.busy": "2020-10-12T12:43:50.837130Z",
     "iopub.status.idle": "2020-10-12T12:43:51.045528Z",
     "shell.execute_reply": "2020-10-12T12:43:51.046112Z"
    },
    "papermill": {
     "duration": 0.38367,
     "end_time": "2020-10-12T12:43:51.046279",
     "exception": false,
     "start_time": "2020-10-12T12:43:50.662609",
     "status": "completed"
    },
    "tags": []
   },
   "outputs": [
    {
     "data": {
      "image/png": "[encoded data removed]",
      "text/plain": [
       "<Figure size 360x360 with 2 Axes>"
      ]
     },
     "metadata": {
      "needs_background": "light"
     },
     "output_type": "display_data"
    }
   ],
   "source": [
    "# The confusion matrix\n",
    "from sklearn.metrics import confusion_matrix\n",
    "import seaborn as sns\n",
    "\n",
    "lstm_val = confusion_matrix(rounded_labels, yhat_classes[1])\n",
    "f, ax = plt.subplots(figsize=(5,5))\n",
    "sns.heatmap(lstm_val, annot=True, linewidth=0.7, linecolor='cyan', fmt='g', ax=ax, cmap=\"BuPu\")\n",
    "plt.title('LSTM Classification Confusion Matrix')\n",
    "plt.xlabel('Y predict')\n",
    "plt.ylabel('Y test')\n",
    "plt.show()"
   ]
  },
  {
   "cell_type": "markdown",
   "metadata": {
    "papermill": {
     "duration": 0.170884,
     "end_time": "2020-10-12T12:43:51.385992",
     "exception": false,
     "start_time": "2020-10-12T12:43:51.215108",
     "status": "completed"
    },
    "tags": []
   },
   "source": [
    "# Validation"
   ]
  },
  {
   "cell_type": "code",
   "execution_count": 43,
   "metadata": {
    "execution": {
     "iopub.execute_input": "2020-10-12T12:43:51.730872Z",
     "iopub.status.busy": "2020-10-12T12:43:51.730129Z",
     "iopub.status.idle": "2020-10-12T12:43:51.805599Z",
     "shell.execute_reply": "2020-10-12T12:43:51.804911Z"
    },
    "papermill": {
     "duration": 0.250835,
     "end_time": "2020-10-12T12:43:51.805722",
     "exception": false,
     "start_time": "2020-10-12T12:43:51.554887",
     "status": "completed"
    },
    "tags": []
   },
   "outputs": [
    {
     "name": "stdout",
     "output_type": "stream",
     "text": [
      "6/6 [==============================] - 0s 5ms/step - loss: 1.0015 - acc: 0.7863\n",
      "score: 1.00\n",
      "acc: 0.79\n"
     ]
    }
   ],
   "source": [
    "validation_size = 610\n",
    "\n",
    "X_validate = X_test[-validation_size:]\n",
    "Y_validate = Y_test[-validation_size:]\n",
    "X_test = X_test[:-validation_size]\n",
    "Y_test = Y_test[:-validation_size]\n",
    "score,acc = model.evaluate(X_test, Y_test, verbose = 1, batch_size = batch_size)\n",
    "\n",
    "print(\"score: %.2f\" % (score))\n",
    "print(\"acc: %.2f\" % (acc))"
   ]
  },
  {
   "cell_type": "markdown",
   "metadata": {
    "papermill": {
     "duration": 0.16783,
     "end_time": "2020-10-12T12:43:52.141630",
     "exception": false,
     "start_time": "2020-10-12T12:43:51.973800",
     "status": "completed"
    },
    "tags": []
   },
   "source": [
    "**Save Model**\n"
   ]
  },
  {
   "cell_type": "code",
   "execution_count": 44,
   "metadata": {
    "execution": {
     "iopub.execute_input": "2020-10-12T12:43:52.493269Z",
     "iopub.status.busy": "2020-10-12T12:43:52.492488Z",
     "iopub.status.idle": "2020-10-12T12:43:52.516965Z",
     "shell.execute_reply": "2020-10-12T12:43:52.516112Z"
    },
    "papermill": {
     "duration": 0.206645,
     "end_time": "2020-10-12T12:43:52.517130",
     "exception": false,
     "start_time": "2020-10-12T12:43:52.310485",
     "status": "completed"
    },
    "tags": []
   },
   "outputs": [],
   "source": [
    "model.save('Mymodel.h5')"
   ]
  },
  {
   "cell_type": "markdown",
   "metadata": {
    "papermill": {
     "duration": 0.167501,
     "end_time": "2020-10-12T12:43:52.853834",
     "exception": false,
     "start_time": "2020-10-12T12:43:52.686333",
     "status": "completed"
    },
    "tags": []
   },
   "source": [
    "**Test with new and different data set aside from the data to build the model.**\n",
    "\n",
    "note : sentiment  = {'positive': 0,'neutral': 1,'negative':2} "
   ]
  },
  {
   "cell_type": "code",
   "execution_count": 45,
   "metadata": {},
   "outputs": [],
   "source": [
    "def translate(senti):\n",
    "    if int(senti) == 0:\n",
    "        print('positive')\n",
    "    elif int(senti) == 1:\n",
    "        print('neutral')\n",
    "    else :\n",
    "        print('negative')\n",
    "        \n"
   ]
  },
  {
   "cell_type": "code",
   "execution_count": 46,
   "metadata": {
    "execution": {
     "iopub.execute_input": "2020-10-12T12:43:53.199311Z",
     "iopub.status.busy": "2020-10-12T12:43:53.198428Z",
     "iopub.status.idle": "2020-10-12T12:43:53.243859Z",
     "shell.execute_reply": "2020-10-12T12:43:53.243174Z"
    },
    "papermill": {
     "duration": 0.222406,
     "end_time": "2020-10-12T12:43:53.243981",
     "exception": false,
     "start_time": "2020-10-12T12:43:53.021575",
     "status": "completed"
    },
    "tags": []
   },
   "outputs": [
    {
     "name": "stdout",
     "output_type": "stream",
     "text": [
      "1/1 [==============================] - 0s 23ms/step\n",
      "[[9.989191e-01 1.085937e-04 9.723416e-04]]\n",
      "1\n",
      "hello\n",
      "[[9.989191e-01 1.085937e-04 9.723416e-04]] 0\n",
      "positive\n"
     ]
    }
   ],
   "source": [
    "message = ['Congratulations! you have won a $1,000 Walmart gift card']\n",
    "seq = tokenizer.texts_to_sequences(message)\n",
    "\n",
    "padded = pad_sequences(seq, maxlen=X.shape[1], dtype='int32', value=0)\n",
    "\n",
    "pred = model.predict(padded)\n",
    "\n",
    "print(pred)\n",
    "print(np.argmin(pred))\n",
    "print('hello')\n",
    "\n",
    "labels = ['0','1','2']\n",
    "print(pred, labels[np.argmax(pred)])\n",
    "translate(labels[np.argmax(pred)])"
   ]
  },
  {
   "cell_type": "code",
   "execution_count": 47,
   "metadata": {
    "execution": {
     "iopub.execute_input": "2020-10-12T12:43:53.592803Z",
     "iopub.status.busy": "2020-10-12T12:43:53.592004Z",
     "iopub.status.idle": "2020-10-12T12:43:53.635560Z",
     "shell.execute_reply": "2020-10-12T12:43:53.634750Z"
    },
    "papermill": {
     "duration": 0.221668,
     "end_time": "2020-10-12T12:43:53.635699",
     "exception": false,
     "start_time": "2020-10-12T12:43:53.414031",
     "status": "completed"
    },
    "tags": []
   },
   "outputs": [
    {
     "name": "stdout",
     "output_type": "stream",
     "text": [
      "1/1 [==============================] - 0s 24ms/step\n",
      "[[9.9999785e-01 9.7183647e-07 1.1707112e-06]] 0\n",
      "positive\n"
     ]
    }
   ],
   "source": [
    "message = ['such massive asteroid hit will certainly create new business opportunities']\n",
    "seq = tokenizer.texts_to_sequences(message)\n",
    "\n",
    "padded = pad_sequences(seq, maxlen=X.shape[1], dtype='int32', value=0)\n",
    "\n",
    "pred = model.predict(padded)\n",
    "\n",
    "labels = ['0','1','2']\n",
    "print(pred, labels[np.argmax(pred)])\n",
    "translate(labels[np.argmax(pred)])"
   ]
  },
  {
   "cell_type": "code",
   "execution_count": 48,
   "metadata": {
    "execution": {
     "iopub.execute_input": "2020-10-12T12:43:53.983749Z",
     "iopub.status.busy": "2020-10-12T12:43:53.982963Z",
     "iopub.status.idle": "2020-10-12T12:43:54.028754Z",
     "shell.execute_reply": "2020-10-12T12:43:54.027862Z"
    },
    "papermill": {
     "duration": 0.224137,
     "end_time": "2020-10-12T12:43:54.028888",
     "exception": false,
     "start_time": "2020-10-12T12:43:53.804751",
     "status": "completed"
    },
    "tags": []
   },
   "outputs": [
    {
     "name": "stdout",
     "output_type": "stream",
     "text": [
      "1/1 [==============================] - 0s 23ms/step\n",
      "[[1.065679e-11 1.000000e+00 9.250748e-12]] 1\n",
      "neutral\n"
     ]
    }
   ],
   "source": [
    "message = ['so does anyone else not open Snapchat anymore ? or is it just me ... ugh this so sad.']\n",
    "seq = tokenizer.texts_to_sequences(message)\n",
    "\n",
    "padded = pad_sequences(seq, maxlen=X.shape[1], dtype='int32', value=0)\n",
    "\n",
    "pred = model.predict(padded)\n",
    "\n",
    "labels = ['0','1','2']\n",
    "print(pred, labels[np.argmax(pred)])\n",
    "translate(labels[np.argmax(pred)])"
   ]
  },
  {
   "cell_type": "code",
   "execution_count": 49,
   "metadata": {
    "execution": {
     "iopub.execute_input": "2020-10-12T12:43:54.379379Z",
     "iopub.status.busy": "2020-10-12T12:43:54.378574Z",
     "iopub.status.idle": "2020-10-12T12:43:54.424891Z",
     "shell.execute_reply": "2020-10-12T12:43:54.424087Z"
    },
    "papermill": {
     "duration": 0.226279,
     "end_time": "2020-10-12T12:43:54.425024",
     "exception": false,
     "start_time": "2020-10-12T12:43:54.198745",
     "status": "completed"
    },
    "tags": []
   },
   "outputs": [
    {
     "name": "stdout",
     "output_type": "stream",
     "text": [
      "1/1 [==============================] - 0s 25ms/step\n",
      "[[1.3836565e-02 9.8615521e-01 8.1787912e-06]] 1\n",
      "neutral\n"
     ]
    }
   ],
   "source": [
    "message = ['@elonmusk had a terrible experience with a very pushy sales guy from tesla Stanford shop while shopping for model x']\n",
    "seq = tokenizer.texts_to_sequences(message)\n",
    "\n",
    "padded = pad_sequences(seq, maxlen=X.shape[1], dtype='int32', value=0)\n",
    "\n",
    "pred = model.predict(padded)\n",
    "\n",
    "labels = ['0','1','2']\n",
    "print(pred, labels[np.argmax(pred)])\n",
    "translate(labels[np.argmax(pred)])"
   ]
  },
  {
   "cell_type": "code",
   "execution_count": 50,
   "metadata": {
    "execution": {
     "iopub.execute_input": "2020-10-12T12:43:54.775597Z",
     "iopub.status.busy": "2020-10-12T12:43:54.774486Z",
     "iopub.status.idle": "2020-10-12T12:43:54.818737Z",
     "shell.execute_reply": "2020-10-12T12:43:54.817952Z"
    },
    "papermill": {
     "duration": 0.222813,
     "end_time": "2020-10-12T12:43:54.818863",
     "exception": false,
     "start_time": "2020-10-12T12:43:54.596050",
     "status": "completed"
    },
    "tags": []
   },
   "outputs": [
    {
     "name": "stdout",
     "output_type": "stream",
     "text": [
      "1/1 [==============================] - 0s 26ms/step\n",
      "[[1.2919520e-09 1.0000000e+00 6.0334565e-10]] 1\n",
      "neutral\n"
     ]
    }
   ],
   "source": [
    "message = ['The local electronics industry is expected to remain stable amid layoff concerns surrounding Japanese electronics giants operating in the country, an official says.']\n",
    "seq = tokenizer.texts_to_sequences(message)\n",
    "\n",
    "padded = pad_sequences(seq, maxlen=X.shape[1], dtype='int32', value=0)\n",
    "\n",
    "pred = model.predict(padded)\n",
    "\n",
    "labels = ['0','1','2']\n",
    "print(pred, labels[np.argmax(pred)])\n",
    "translate(labels[np.argmax(pred)])"
   ]
  },
  {
   "cell_type": "code",
   "execution_count": 79,
   "metadata": {
    "execution": {
     "iopub.execute_input": "2020-10-12T12:43:55.172462Z",
     "iopub.status.busy": "2020-10-12T12:43:55.171354Z",
     "iopub.status.idle": "2020-10-12T12:43:55.216129Z",
     "shell.execute_reply": "2020-10-12T12:43:55.215419Z"
    },
    "papermill": {
     "duration": 0.22453,
     "end_time": "2020-10-12T12:43:55.216271",
     "exception": false,
     "start_time": "2020-10-12T12:43:54.991741",
     "status": "completed"
    },
    "tags": []
   },
   "outputs": [
    {
     "name": "stdout",
     "output_type": "stream",
     "text": [
      "1/1 [==============================] - 0s 31ms/step\n",
      "[[4.7726424e-08 2.2454334e-08 9.9999988e-01]]\n",
      "[[4.7726424e-08 2.2454334e-08 9.9999988e-01]] 2\n",
      "negative\n"
     ]
    }
   ],
   "source": [
    "message = ['The local electronics industry is amid layoff concerns and last year has laid off tens of employees']\n",
    "seq = tokenizer.texts_to_sequences(message)\n",
    "\n",
    "padded = pad_sequences(seq, maxlen=X.shape[1], dtype='int32', value=0)\n",
    "\n",
    "pred = model.predict(padded)\n",
    "\n",
    "labels = ['0','1','2']\n",
    "\n",
    "print(pred)\n",
    "print\n",
    "print(pred, labels[np.argmax(pred)])\n",
    "translate(labels[np.argmax(pred)])"
   ]
  },
  {
   "cell_type": "markdown",
   "metadata": {
    "papermill": {
     "duration": 0.17155,
     "end_time": "2020-10-12T12:43:55.562639",
     "exception": false,
     "start_time": "2020-10-12T12:43:55.391089",
     "status": "completed"
    },
    "tags": []
   },
   "source": [
    "References\n",
    "* [1] Artificial Inteligence, Machine Learning and Deep Learning by Mercury Learning and Informarion (Book)\n",
    "* [2] Source Information of NLP :https://monkeylearn.com/what-is-text-classification/\n",
    "* [3] Parameter doc2vec and  LSTM inspired  by : https://dl.acm.org/doi/10.1145/3406601.3406624\n",
    "* [4] (Bing Liu. Sentiment Analysis and Opinion Mining, Morgan & Claypool Publishers, May 2012.)"
   ]
  },
  {
   "cell_type": "code",
   "execution_count": 55,
   "metadata": {},
   "outputs": [
    {
     "name": "stdout",
     "output_type": "stream",
     "text": [
      "1/1 [==============================] - 0s 27ms/step\n",
      "[[0.00161517 0.00796472 0.99042016]] 2\n",
      "negative\n"
     ]
    }
   ],
   "source": [
    "message = ['worse day']\n",
    "seq = tokenizer.texts_to_sequences(message)\n",
    "\n",
    "padded = pad_sequences(seq, maxlen=X.shape[1], dtype='int32', value=0)\n",
    "\n",
    "pred = model.predict(padded)\n",
    "\n",
    "labels = ['0','1','2']\n",
    "print(pred, labels[np.argmax(pred)])\n",
    "translate(labels[np.argmax(pred)])"
   ]
  },
  {
   "cell_type": "code",
   "execution_count": 56,
   "metadata": {},
   "outputs": [],
   "source": [
    "model.save('saved.h5')"
   ]
  },
  {
   "cell_type": "code",
   "execution_count": 70,
   "metadata": {},
   "outputs": [
    {
     "name": "stdout",
     "output_type": "stream",
     "text": [
      "(4845,)\n"
     ]
    }
   ],
   "source": [
    "print((df['Message'].values).shape)\n"
   ]
  },
  {
   "cell_type": "code",
   "execution_count": 2,
   "metadata": {},
   "outputs": [],
   "source": [
    "from keras.models import load_model\n",
    "from keras.preprocessing.text import Tokenizer\n",
    "from keras_preprocessing.sequence import pad_sequences\n",
    "import numpy as np\n",
    "\n",
    "def translate(senti):\n",
    "    if int(senti) == 0:\n",
    "        print('positive')\n",
    "    elif int(senti) == 1:\n",
    "        print('neutral')\n",
    "    else :\n",
    "        print('negative')\n",
    "\n",
    "\n",
    "\n",
    "df = pd.read_csv('all-data.csv',delimiter=',',encoding='latin-1')\n",
    "df = df.rename(columns={'neutral':'sentiment','According to Gran , the company has no plans to move all production to Russia , although that is where the company is growing .':'Message'})\n",
    "\n",
    "md2 = load_model('saved.h5')"
   ]
  },
  {
   "cell_type": "code",
   "execution_count": 3,
   "metadata": {},
   "outputs": [
    {
     "name": "stdout",
     "output_type": "stream",
     "text": [
      "(1, 50)\n",
      "1/1 [==============================] - 0s 476ms/step\n",
      "[[7.9219445e-04 1.4599207e-02 9.8460859e-01]] 2\n",
      "negative\n"
     ]
    }
   ],
   "source": [
    "tokenizer = Tokenizer(num_words=500000, split=' ', filters='!\"#$%&()*+,-./:;<=>?@[\\]^_`{|}~', lower=True)\n",
    "tokenizer.fit_on_texts(df['Message'].values)\n",
    "\n",
    "message = ['The local electronics industry is amid layoff concerns and last year has laid off tens of employees']\n",
    "seq = tokenizer.texts_to_sequences(message)\n",
    "\n",
    "padded = pad_sequences(seq, maxlen=50, dtype='int32', value=0)\n",
    "print(padded.shape)\n",
    "\n",
    "pred = md2.predict(padded)\n",
    "\n",
    "labels = ['0','1','2']\n",
    "print(pred, labels[np.argmax(pred)])\n",
    "translate(labels[np.argmax(pred)])"
   ]
  },
  {
   "cell_type": "code",
   "execution_count": null,
   "metadata": {},
   "outputs": [],
   "source": []
  },
  {
   "cell_type": "code",
   "execution_count": null,
   "metadata": {},
   "outputs": [],
   "source": []
  }
 ],
 "metadata": {
  "kernelspec": {
   "display_name": "Python 3 (ipykernel)",
   "language": "python",
   "name": "python3"
  },
  "language_info": {
   "codemirror_mode": {
    "name": "ipython",
    "version": 3
   },
   "file_extension": ".py",
   "mimetype": "text/x-python",
   "name": "python",
   "nbconvert_exporter": "python",
   "pygments_lexer": "ipython3",
   "version": "3.10.4"
  },
  "papermill": {
   "duration": 1038.73911,
   "end_time": "2020-10-12T12:43:55.843833",
   "environment_variables": {},
   "exception": null,
   "input_path": "__notebook__.ipynb",
   "output_path": "__notebook__.ipynb",
   "parameters": {},
   "start_time": "2020-10-12T12:26:37.104723",
   "version": "2.1.0"
  }
 },
 "nbformat": 4,
 "nbformat_minor": 4
}
